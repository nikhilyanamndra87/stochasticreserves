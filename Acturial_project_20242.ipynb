{
  "nbformat": 4,
  "nbformat_minor": 0,
  "metadata": {
    "colab": {
      "name": "Acturial_project_20242.ipynb",
      "provenance": []
    },
    "kernelspec": {
      "name": "python3",
      "display_name": "Python 3"
    },
    "language_info": {
      "name": "python"
    }
  },
  "cells": [
    {
      "cell_type": "code",
      "metadata": {
        "colab": {
          "base_uri": "https://localhost:8080/"
        },
        "id": "5WC9xYL5__qS",
        "outputId": "2bfed57d-f2e9-4147-84d6-3c9a277ae7e9"
      },
      "source": [
        "pip install chainladder\n"
      ],
      "execution_count": 1,
      "outputs": [
        {
          "output_type": "stream",
          "name": "stdout",
          "text": [
            "Collecting chainladder\n",
            "  Downloading chainladder-0.8.10-py3-none-any.whl (1.3 MB)\n",
            "\u001b[K     |████████████████████████████████| 1.3 MB 7.4 MB/s \n",
            "\u001b[?25hRequirement already satisfied: patsy in /usr/local/lib/python3.7/dist-packages (from chainladder) (0.5.2)\n",
            "Requirement already satisfied: dill in /usr/local/lib/python3.7/dist-packages (from chainladder) (0.3.4)\n",
            "Requirement already satisfied: scikit-learn>=0.23 in /usr/local/lib/python3.7/dist-packages (from chainladder) (1.0.1)\n",
            "Collecting sparse>=0.9\n",
            "  Downloading sparse-0.13.0-py2.py3-none-any.whl (77 kB)\n",
            "\u001b[K     |████████████████████████████████| 77 kB 8.4 MB/s \n",
            "\u001b[?25hRequirement already satisfied: pandas>=0.23 in /usr/local/lib/python3.7/dist-packages (from chainladder) (1.1.5)\n",
            "Requirement already satisfied: matplotlib in /usr/local/lib/python3.7/dist-packages (from chainladder) (3.2.2)\n",
            "Requirement already satisfied: numpy>=1.15.4 in /usr/local/lib/python3.7/dist-packages (from pandas>=0.23->chainladder) (1.19.5)\n",
            "Requirement already satisfied: pytz>=2017.2 in /usr/local/lib/python3.7/dist-packages (from pandas>=0.23->chainladder) (2018.9)\n",
            "Requirement already satisfied: python-dateutil>=2.7.3 in /usr/local/lib/python3.7/dist-packages (from pandas>=0.23->chainladder) (2.8.2)\n",
            "Requirement already satisfied: six>=1.5 in /usr/local/lib/python3.7/dist-packages (from python-dateutil>=2.7.3->pandas>=0.23->chainladder) (1.15.0)\n",
            "Requirement already satisfied: threadpoolctl>=2.0.0 in /usr/local/lib/python3.7/dist-packages (from scikit-learn>=0.23->chainladder) (3.0.0)\n",
            "Requirement already satisfied: scipy>=1.1.0 in /usr/local/lib/python3.7/dist-packages (from scikit-learn>=0.23->chainladder) (1.4.1)\n",
            "Requirement already satisfied: joblib>=0.11 in /usr/local/lib/python3.7/dist-packages (from scikit-learn>=0.23->chainladder) (1.1.0)\n",
            "Requirement already satisfied: numba>=0.49 in /usr/local/lib/python3.7/dist-packages (from sparse>=0.9->chainladder) (0.51.2)\n",
            "Requirement already satisfied: llvmlite<0.35,>=0.34.0.dev0 in /usr/local/lib/python3.7/dist-packages (from numba>=0.49->sparse>=0.9->chainladder) (0.34.0)\n",
            "Requirement already satisfied: setuptools in /usr/local/lib/python3.7/dist-packages (from numba>=0.49->sparse>=0.9->chainladder) (57.4.0)\n",
            "Requirement already satisfied: pyparsing!=2.0.4,!=2.1.2,!=2.1.6,>=2.0.1 in /usr/local/lib/python3.7/dist-packages (from matplotlib->chainladder) (3.0.6)\n",
            "Requirement already satisfied: kiwisolver>=1.0.1 in /usr/local/lib/python3.7/dist-packages (from matplotlib->chainladder) (1.3.2)\n",
            "Requirement already satisfied: cycler>=0.10 in /usr/local/lib/python3.7/dist-packages (from matplotlib->chainladder) (0.11.0)\n",
            "Installing collected packages: sparse, chainladder\n",
            "Successfully installed chainladder-0.8.10 sparse-0.13.0\n"
          ]
        }
      ]
    },
    {
      "cell_type": "code",
      "metadata": {
        "id": "OMqdU8K6A-Ep"
      },
      "source": [
        "import pandas as pd\n",
        "import numpy as np\n",
        "import chainladder as cl\n",
        "import os\n",
        "import matplotlib.pyplot as plt"
      ],
      "execution_count": 2,
      "outputs": []
    },
    {
      "cell_type": "code",
      "metadata": {
        "id": "EZW6V5jIBVf8"
      },
      "source": [
        "\n",
        "%matplotlib inline"
      ],
      "execution_count": 3,
      "outputs": []
    },
    {
      "cell_type": "code",
      "metadata": {
        "colab": {
          "base_uri": "https://localhost:8080/",
          "height": 363
        },
        "id": "S-peMItABYSP",
        "outputId": "d1e55d51-1bb8-4608-a785-dbec04a8e3fe"
      },
      "source": [
        "triangle = cl.load_sample(\"RAA\")\n",
        "dev_triangle = triangle\n",
        "dev_triangle"
      ],
      "execution_count": 4,
      "outputs": [
        {
          "output_type": "execute_result",
          "data": {
            "text/html": [
              "<table border=\"1\" class=\"dataframe\">\n",
              "  <thead>\n",
              "    <tr style=\"text-align: right;\">\n",
              "      <th></th>\n",
              "      <th>12</th>\n",
              "      <th>24</th>\n",
              "      <th>36</th>\n",
              "      <th>48</th>\n",
              "      <th>60</th>\n",
              "      <th>72</th>\n",
              "      <th>84</th>\n",
              "      <th>96</th>\n",
              "      <th>108</th>\n",
              "      <th>120</th>\n",
              "    </tr>\n",
              "  </thead>\n",
              "  <tbody>\n",
              "    <tr>\n",
              "      <th>1981</th>\n",
              "      <td>5,012</td>\n",
              "      <td>8,269</td>\n",
              "      <td>10,907</td>\n",
              "      <td>11,805</td>\n",
              "      <td>13,539</td>\n",
              "      <td>16,181</td>\n",
              "      <td>18,009</td>\n",
              "      <td>18,608</td>\n",
              "      <td>18,662</td>\n",
              "      <td>18,834</td>\n",
              "    </tr>\n",
              "    <tr>\n",
              "      <th>1982</th>\n",
              "      <td>106</td>\n",
              "      <td>4,285</td>\n",
              "      <td>5,396</td>\n",
              "      <td>10,666</td>\n",
              "      <td>13,782</td>\n",
              "      <td>15,599</td>\n",
              "      <td>15,496</td>\n",
              "      <td>16,169</td>\n",
              "      <td>16,704</td>\n",
              "      <td></td>\n",
              "    </tr>\n",
              "    <tr>\n",
              "      <th>1983</th>\n",
              "      <td>3,410</td>\n",
              "      <td>8,992</td>\n",
              "      <td>13,873</td>\n",
              "      <td>16,141</td>\n",
              "      <td>18,735</td>\n",
              "      <td>22,214</td>\n",
              "      <td>22,863</td>\n",
              "      <td>23,466</td>\n",
              "      <td></td>\n",
              "      <td></td>\n",
              "    </tr>\n",
              "    <tr>\n",
              "      <th>1984</th>\n",
              "      <td>5,655</td>\n",
              "      <td>11,555</td>\n",
              "      <td>15,766</td>\n",
              "      <td>21,266</td>\n",
              "      <td>23,425</td>\n",
              "      <td>26,083</td>\n",
              "      <td>27,067</td>\n",
              "      <td></td>\n",
              "      <td></td>\n",
              "      <td></td>\n",
              "    </tr>\n",
              "    <tr>\n",
              "      <th>1985</th>\n",
              "      <td>1,092</td>\n",
              "      <td>9,565</td>\n",
              "      <td>15,836</td>\n",
              "      <td>22,169</td>\n",
              "      <td>25,955</td>\n",
              "      <td>26,180</td>\n",
              "      <td></td>\n",
              "      <td></td>\n",
              "      <td></td>\n",
              "      <td></td>\n",
              "    </tr>\n",
              "    <tr>\n",
              "      <th>1986</th>\n",
              "      <td>1,513</td>\n",
              "      <td>6,445</td>\n",
              "      <td>11,702</td>\n",
              "      <td>12,935</td>\n",
              "      <td>15,852</td>\n",
              "      <td></td>\n",
              "      <td></td>\n",
              "      <td></td>\n",
              "      <td></td>\n",
              "      <td></td>\n",
              "    </tr>\n",
              "    <tr>\n",
              "      <th>1987</th>\n",
              "      <td>557</td>\n",
              "      <td>4,020</td>\n",
              "      <td>10,946</td>\n",
              "      <td>12,314</td>\n",
              "      <td></td>\n",
              "      <td></td>\n",
              "      <td></td>\n",
              "      <td></td>\n",
              "      <td></td>\n",
              "      <td></td>\n",
              "    </tr>\n",
              "    <tr>\n",
              "      <th>1988</th>\n",
              "      <td>1,351</td>\n",
              "      <td>6,947</td>\n",
              "      <td>13,112</td>\n",
              "      <td></td>\n",
              "      <td></td>\n",
              "      <td></td>\n",
              "      <td></td>\n",
              "      <td></td>\n",
              "      <td></td>\n",
              "      <td></td>\n",
              "    </tr>\n",
              "    <tr>\n",
              "      <th>1989</th>\n",
              "      <td>3,133</td>\n",
              "      <td>5,395</td>\n",
              "      <td></td>\n",
              "      <td></td>\n",
              "      <td></td>\n",
              "      <td></td>\n",
              "      <td></td>\n",
              "      <td></td>\n",
              "      <td></td>\n",
              "      <td></td>\n",
              "    </tr>\n",
              "    <tr>\n",
              "      <th>1990</th>\n",
              "      <td>2,063</td>\n",
              "      <td></td>\n",
              "      <td></td>\n",
              "      <td></td>\n",
              "      <td></td>\n",
              "      <td></td>\n",
              "      <td></td>\n",
              "      <td></td>\n",
              "      <td></td>\n",
              "      <td></td>\n",
              "    </tr>\n",
              "  </tbody>\n",
              "</table>"
            ],
            "text/plain": [
              "         12       24       36       48       60       72       84       96       108      120\n",
              "1981  5012.0   8269.0  10907.0  11805.0  13539.0  16181.0  18009.0  18608.0  18662.0  18834.0\n",
              "1982   106.0   4285.0   5396.0  10666.0  13782.0  15599.0  15496.0  16169.0  16704.0      NaN\n",
              "1983  3410.0   8992.0  13873.0  16141.0  18735.0  22214.0  22863.0  23466.0      NaN      NaN\n",
              "1984  5655.0  11555.0  15766.0  21266.0  23425.0  26083.0  27067.0      NaN      NaN      NaN\n",
              "1985  1092.0   9565.0  15836.0  22169.0  25955.0  26180.0      NaN      NaN      NaN      NaN\n",
              "1986  1513.0   6445.0  11702.0  12935.0  15852.0      NaN      NaN      NaN      NaN      NaN\n",
              "1987   557.0   4020.0  10946.0  12314.0      NaN      NaN      NaN      NaN      NaN      NaN\n",
              "1988  1351.0   6947.0  13112.0      NaN      NaN      NaN      NaN      NaN      NaN      NaN\n",
              "1989  3133.0   5395.0      NaN      NaN      NaN      NaN      NaN      NaN      NaN      NaN\n",
              "1990  2063.0      NaN      NaN      NaN      NaN      NaN      NaN      NaN      NaN      NaN"
            ]
          },
          "metadata": {},
          "execution_count": 4
        }
      ]
    },
    {
      "cell_type": "code",
      "metadata": {
        "colab": {
          "base_uri": "https://localhost:8080/",
          "height": 363
        },
        "id": "GNgJSCBFBz26",
        "outputId": "68287418-d301-4202-8004-bded39f4a470"
      },
      "source": [
        "dev_triangle.head()"
      ],
      "execution_count": 5,
      "outputs": [
        {
          "output_type": "execute_result",
          "data": {
            "text/html": [
              "<table border=\"1\" class=\"dataframe\">\n",
              "  <thead>\n",
              "    <tr style=\"text-align: right;\">\n",
              "      <th></th>\n",
              "      <th>12</th>\n",
              "      <th>24</th>\n",
              "      <th>36</th>\n",
              "      <th>48</th>\n",
              "      <th>60</th>\n",
              "      <th>72</th>\n",
              "      <th>84</th>\n",
              "      <th>96</th>\n",
              "      <th>108</th>\n",
              "      <th>120</th>\n",
              "    </tr>\n",
              "  </thead>\n",
              "  <tbody>\n",
              "    <tr>\n",
              "      <th>1981</th>\n",
              "      <td>5,012</td>\n",
              "      <td>8,269</td>\n",
              "      <td>10,907</td>\n",
              "      <td>11,805</td>\n",
              "      <td>13,539</td>\n",
              "      <td>16,181</td>\n",
              "      <td>18,009</td>\n",
              "      <td>18,608</td>\n",
              "      <td>18,662</td>\n",
              "      <td>18,834</td>\n",
              "    </tr>\n",
              "    <tr>\n",
              "      <th>1982</th>\n",
              "      <td>106</td>\n",
              "      <td>4,285</td>\n",
              "      <td>5,396</td>\n",
              "      <td>10,666</td>\n",
              "      <td>13,782</td>\n",
              "      <td>15,599</td>\n",
              "      <td>15,496</td>\n",
              "      <td>16,169</td>\n",
              "      <td>16,704</td>\n",
              "      <td></td>\n",
              "    </tr>\n",
              "    <tr>\n",
              "      <th>1983</th>\n",
              "      <td>3,410</td>\n",
              "      <td>8,992</td>\n",
              "      <td>13,873</td>\n",
              "      <td>16,141</td>\n",
              "      <td>18,735</td>\n",
              "      <td>22,214</td>\n",
              "      <td>22,863</td>\n",
              "      <td>23,466</td>\n",
              "      <td></td>\n",
              "      <td></td>\n",
              "    </tr>\n",
              "    <tr>\n",
              "      <th>1984</th>\n",
              "      <td>5,655</td>\n",
              "      <td>11,555</td>\n",
              "      <td>15,766</td>\n",
              "      <td>21,266</td>\n",
              "      <td>23,425</td>\n",
              "      <td>26,083</td>\n",
              "      <td>27,067</td>\n",
              "      <td></td>\n",
              "      <td></td>\n",
              "      <td></td>\n",
              "    </tr>\n",
              "    <tr>\n",
              "      <th>1985</th>\n",
              "      <td>1,092</td>\n",
              "      <td>9,565</td>\n",
              "      <td>15,836</td>\n",
              "      <td>22,169</td>\n",
              "      <td>25,955</td>\n",
              "      <td>26,180</td>\n",
              "      <td></td>\n",
              "      <td></td>\n",
              "      <td></td>\n",
              "      <td></td>\n",
              "    </tr>\n",
              "    <tr>\n",
              "      <th>1986</th>\n",
              "      <td>1,513</td>\n",
              "      <td>6,445</td>\n",
              "      <td>11,702</td>\n",
              "      <td>12,935</td>\n",
              "      <td>15,852</td>\n",
              "      <td></td>\n",
              "      <td></td>\n",
              "      <td></td>\n",
              "      <td></td>\n",
              "      <td></td>\n",
              "    </tr>\n",
              "    <tr>\n",
              "      <th>1987</th>\n",
              "      <td>557</td>\n",
              "      <td>4,020</td>\n",
              "      <td>10,946</td>\n",
              "      <td>12,314</td>\n",
              "      <td></td>\n",
              "      <td></td>\n",
              "      <td></td>\n",
              "      <td></td>\n",
              "      <td></td>\n",
              "      <td></td>\n",
              "    </tr>\n",
              "    <tr>\n",
              "      <th>1988</th>\n",
              "      <td>1,351</td>\n",
              "      <td>6,947</td>\n",
              "      <td>13,112</td>\n",
              "      <td></td>\n",
              "      <td></td>\n",
              "      <td></td>\n",
              "      <td></td>\n",
              "      <td></td>\n",
              "      <td></td>\n",
              "      <td></td>\n",
              "    </tr>\n",
              "    <tr>\n",
              "      <th>1989</th>\n",
              "      <td>3,133</td>\n",
              "      <td>5,395</td>\n",
              "      <td></td>\n",
              "      <td></td>\n",
              "      <td></td>\n",
              "      <td></td>\n",
              "      <td></td>\n",
              "      <td></td>\n",
              "      <td></td>\n",
              "      <td></td>\n",
              "    </tr>\n",
              "    <tr>\n",
              "      <th>1990</th>\n",
              "      <td>2,063</td>\n",
              "      <td></td>\n",
              "      <td></td>\n",
              "      <td></td>\n",
              "      <td></td>\n",
              "      <td></td>\n",
              "      <td></td>\n",
              "      <td></td>\n",
              "      <td></td>\n",
              "      <td></td>\n",
              "    </tr>\n",
              "  </tbody>\n",
              "</table>"
            ],
            "text/plain": [
              "         12       24       36       48       60       72       84       96       108      120\n",
              "1981  5012.0   8269.0  10907.0  11805.0  13539.0  16181.0  18009.0  18608.0  18662.0  18834.0\n",
              "1982   106.0   4285.0   5396.0  10666.0  13782.0  15599.0  15496.0  16169.0  16704.0      NaN\n",
              "1983  3410.0   8992.0  13873.0  16141.0  18735.0  22214.0  22863.0  23466.0      NaN      NaN\n",
              "1984  5655.0  11555.0  15766.0  21266.0  23425.0  26083.0  27067.0      NaN      NaN      NaN\n",
              "1985  1092.0   9565.0  15836.0  22169.0  25955.0  26180.0      NaN      NaN      NaN      NaN\n",
              "1986  1513.0   6445.0  11702.0  12935.0  15852.0      NaN      NaN      NaN      NaN      NaN\n",
              "1987   557.0   4020.0  10946.0  12314.0      NaN      NaN      NaN      NaN      NaN      NaN\n",
              "1988  1351.0   6947.0  13112.0      NaN      NaN      NaN      NaN      NaN      NaN      NaN\n",
              "1989  3133.0   5395.0      NaN      NaN      NaN      NaN      NaN      NaN      NaN      NaN\n",
              "1990  2063.0      NaN      NaN      NaN      NaN      NaN      NaN      NaN      NaN      NaN"
            ]
          },
          "metadata": {},
          "execution_count": 5
        }
      ]
    },
    {
      "cell_type": "code",
      "metadata": {
        "colab": {
          "base_uri": "https://localhost:8080/",
          "height": 331
        },
        "id": "QxmPuO2JB4It",
        "outputId": "48d02b08-cd9c-40e0-ba7b-680db1d9063d"
      },
      "source": [
        "#use the link_ratio as loss development factor\n",
        "dev_triangle.link_ratio"
      ],
      "execution_count": 6,
      "outputs": [
        {
          "output_type": "execute_result",
          "data": {
            "text/html": [
              "<table border=\"1\" class=\"dataframe\">\n",
              "  <thead>\n",
              "    <tr style=\"text-align: right;\">\n",
              "      <th></th>\n",
              "      <th>12-24</th>\n",
              "      <th>24-36</th>\n",
              "      <th>36-48</th>\n",
              "      <th>48-60</th>\n",
              "      <th>60-72</th>\n",
              "      <th>72-84</th>\n",
              "      <th>84-96</th>\n",
              "      <th>96-108</th>\n",
              "      <th>108-120</th>\n",
              "    </tr>\n",
              "  </thead>\n",
              "  <tbody>\n",
              "    <tr>\n",
              "      <th>1981</th>\n",
              "      <td>1.6498</td>\n",
              "      <td>1.3190</td>\n",
              "      <td>1.0823</td>\n",
              "      <td>1.1469</td>\n",
              "      <td>1.1951</td>\n",
              "      <td>1.1130</td>\n",
              "      <td>1.0333</td>\n",
              "      <td>1.0029</td>\n",
              "      <td>1.0092</td>\n",
              "    </tr>\n",
              "    <tr>\n",
              "      <th>1982</th>\n",
              "      <td>40.4245</td>\n",
              "      <td>1.2593</td>\n",
              "      <td>1.9766</td>\n",
              "      <td>1.2921</td>\n",
              "      <td>1.1318</td>\n",
              "      <td>0.9934</td>\n",
              "      <td>1.0434</td>\n",
              "      <td>1.0331</td>\n",
              "      <td></td>\n",
              "    </tr>\n",
              "    <tr>\n",
              "      <th>1983</th>\n",
              "      <td>2.6370</td>\n",
              "      <td>1.5428</td>\n",
              "      <td>1.1635</td>\n",
              "      <td>1.1607</td>\n",
              "      <td>1.1857</td>\n",
              "      <td>1.0292</td>\n",
              "      <td>1.0264</td>\n",
              "      <td></td>\n",
              "      <td></td>\n",
              "    </tr>\n",
              "    <tr>\n",
              "      <th>1984</th>\n",
              "      <td>2.0433</td>\n",
              "      <td>1.3644</td>\n",
              "      <td>1.3489</td>\n",
              "      <td>1.1015</td>\n",
              "      <td>1.1135</td>\n",
              "      <td>1.0377</td>\n",
              "      <td></td>\n",
              "      <td></td>\n",
              "      <td></td>\n",
              "    </tr>\n",
              "    <tr>\n",
              "      <th>1985</th>\n",
              "      <td>8.7592</td>\n",
              "      <td>1.6556</td>\n",
              "      <td>1.3999</td>\n",
              "      <td>1.1708</td>\n",
              "      <td>1.0087</td>\n",
              "      <td></td>\n",
              "      <td></td>\n",
              "      <td></td>\n",
              "      <td></td>\n",
              "    </tr>\n",
              "    <tr>\n",
              "      <th>1986</th>\n",
              "      <td>4.2597</td>\n",
              "      <td>1.8157</td>\n",
              "      <td>1.1054</td>\n",
              "      <td>1.2255</td>\n",
              "      <td></td>\n",
              "      <td></td>\n",
              "      <td></td>\n",
              "      <td></td>\n",
              "      <td></td>\n",
              "    </tr>\n",
              "    <tr>\n",
              "      <th>1987</th>\n",
              "      <td>7.2172</td>\n",
              "      <td>2.7229</td>\n",
              "      <td>1.1250</td>\n",
              "      <td></td>\n",
              "      <td></td>\n",
              "      <td></td>\n",
              "      <td></td>\n",
              "      <td></td>\n",
              "      <td></td>\n",
              "    </tr>\n",
              "    <tr>\n",
              "      <th>1988</th>\n",
              "      <td>5.1421</td>\n",
              "      <td>1.8874</td>\n",
              "      <td></td>\n",
              "      <td></td>\n",
              "      <td></td>\n",
              "      <td></td>\n",
              "      <td></td>\n",
              "      <td></td>\n",
              "      <td></td>\n",
              "    </tr>\n",
              "    <tr>\n",
              "      <th>1989</th>\n",
              "      <td>1.7220</td>\n",
              "      <td></td>\n",
              "      <td></td>\n",
              "      <td></td>\n",
              "      <td></td>\n",
              "      <td></td>\n",
              "      <td></td>\n",
              "      <td></td>\n",
              "      <td></td>\n",
              "    </tr>\n",
              "  </tbody>\n",
              "</table>"
            ],
            "text/plain": [
              "          12-24     24-36     36-48     48-60     60-72     72-84     84-96    96-108   108-120\n",
              "1981   1.649840  1.319023  1.082332  1.146887  1.195140  1.112972  1.033261  1.002902  1.009217\n",
              "1982  40.424528  1.259277  1.976649  1.292143  1.131839  0.993397  1.043431  1.033088       NaN\n",
              "1983   2.636950  1.542816  1.163483  1.160709  1.185695  1.029216  1.026374       NaN       NaN\n",
              "1984   2.043324  1.364431  1.348852  1.101524  1.113469  1.037726       NaN       NaN       NaN\n",
              "1985   8.759158  1.655619  1.399912  1.170779  1.008669       NaN       NaN       NaN       NaN\n",
              "1986   4.259749  1.815671  1.105367  1.225512       NaN       NaN       NaN       NaN       NaN\n",
              "1987   7.217235  2.722886  1.124977       NaN       NaN       NaN       NaN       NaN       NaN\n",
              "1988   5.142117  1.887433       NaN       NaN       NaN       NaN       NaN       NaN       NaN\n",
              "1989   1.721992       NaN       NaN       NaN       NaN       NaN       NaN       NaN       NaN"
            ]
          },
          "metadata": {},
          "execution_count": 6
        }
      ]
    },
    {
      "cell_type": "code",
      "metadata": {
        "colab": {
          "base_uri": "https://localhost:8080/",
          "height": 363
        },
        "id": "W71Wn-wQCFNJ",
        "outputId": "ac597374-2e6a-4772-d765-5fd6e3cc0e93"
      },
      "source": [
        "#latest_paid is taken as latest_diagnol so \n",
        "latest_paid = dev_triangle.latest_diagonal\n",
        "latest_paid"
      ],
      "execution_count": 7,
      "outputs": [
        {
          "output_type": "execute_result",
          "data": {
            "text/html": [
              "<table border=\"1\" class=\"dataframe\">\n",
              "  <thead>\n",
              "    <tr style=\"text-align: right;\">\n",
              "      <th></th>\n",
              "      <th>1990</th>\n",
              "    </tr>\n",
              "  </thead>\n",
              "  <tbody>\n",
              "    <tr>\n",
              "      <th>1981</th>\n",
              "      <td>18,834</td>\n",
              "    </tr>\n",
              "    <tr>\n",
              "      <th>1982</th>\n",
              "      <td>16,704</td>\n",
              "    </tr>\n",
              "    <tr>\n",
              "      <th>1983</th>\n",
              "      <td>23,466</td>\n",
              "    </tr>\n",
              "    <tr>\n",
              "      <th>1984</th>\n",
              "      <td>27,067</td>\n",
              "    </tr>\n",
              "    <tr>\n",
              "      <th>1985</th>\n",
              "      <td>26,180</td>\n",
              "    </tr>\n",
              "    <tr>\n",
              "      <th>1986</th>\n",
              "      <td>15,852</td>\n",
              "    </tr>\n",
              "    <tr>\n",
              "      <th>1987</th>\n",
              "      <td>12,314</td>\n",
              "    </tr>\n",
              "    <tr>\n",
              "      <th>1988</th>\n",
              "      <td>13,112</td>\n",
              "    </tr>\n",
              "    <tr>\n",
              "      <th>1989</th>\n",
              "      <td>5,395</td>\n",
              "    </tr>\n",
              "    <tr>\n",
              "      <th>1990</th>\n",
              "      <td>2,063</td>\n",
              "    </tr>\n",
              "  </tbody>\n",
              "</table>"
            ],
            "text/plain": [
              "         1990\n",
              "1981  18834.0\n",
              "1982  16704.0\n",
              "1983  23466.0\n",
              "1984  27067.0\n",
              "1985  26180.0\n",
              "1986  15852.0\n",
              "1987  12314.0\n",
              "1988  13112.0\n",
              "1989   5395.0\n",
              "1990   2063.0"
            ]
          },
          "metadata": {},
          "execution_count": 7
        }
      ]
    },
    {
      "cell_type": "code",
      "metadata": {
        "colab": {
          "base_uri": "https://localhost:8080/"
        },
        "id": "rBge3Kh-CTbo",
        "outputId": "3646b15d-3c15-4e1a-c3b9-fa1c43c69c50"
      },
      "source": [
        "print(\"the triangle is cumulative or not?\",dev_triangle.is_cumulative)\n",
        "print(\"Does the triangle contain ultimate projections?\",dev_triangle.is_ultimate)\n",
        "print(\"is this a valuation triangle\",dev_triangle.is_val_tri)\n",
        "print(\"Has the triangle been squared?\",dev_triangle.is_full)\n"
      ],
      "execution_count": 8,
      "outputs": [
        {
          "output_type": "stream",
          "name": "stdout",
          "text": [
            "the triangle is cumulative or not? True\n",
            "Does the triangle contain ultimate projections? False\n",
            "is this a valuation triangle False\n",
            "Has the triangle been squared? False\n"
          ]
        }
      ]
    },
    {
      "cell_type": "code",
      "metadata": {
        "colab": {
          "base_uri": "https://localhost:8080/",
          "height": 363
        },
        "id": "hkjYf0s6DCsg",
        "outputId": "69a72b6d-7664-4704-96e4-27dd03dc056e"
      },
      "source": [
        "#we can always change the view of development triangle from incremental to development to viceversa using inc_to_cum and cum_to_incr\n",
        "dev_triangle_inc = dev_triangle.cum_to_incr()\n",
        "dev_triangle_inc"
      ],
      "execution_count": 9,
      "outputs": [
        {
          "output_type": "execute_result",
          "data": {
            "text/html": [
              "<table border=\"1\" class=\"dataframe\">\n",
              "  <thead>\n",
              "    <tr style=\"text-align: right;\">\n",
              "      <th></th>\n",
              "      <th>12</th>\n",
              "      <th>24</th>\n",
              "      <th>36</th>\n",
              "      <th>48</th>\n",
              "      <th>60</th>\n",
              "      <th>72</th>\n",
              "      <th>84</th>\n",
              "      <th>96</th>\n",
              "      <th>108</th>\n",
              "      <th>120</th>\n",
              "    </tr>\n",
              "  </thead>\n",
              "  <tbody>\n",
              "    <tr>\n",
              "      <th>1981</th>\n",
              "      <td>5,012</td>\n",
              "      <td>3,257</td>\n",
              "      <td>2,638</td>\n",
              "      <td>898</td>\n",
              "      <td>1,734</td>\n",
              "      <td>2,642</td>\n",
              "      <td>1,828</td>\n",
              "      <td>599</td>\n",
              "      <td>54</td>\n",
              "      <td>172</td>\n",
              "    </tr>\n",
              "    <tr>\n",
              "      <th>1982</th>\n",
              "      <td>106</td>\n",
              "      <td>4,179</td>\n",
              "      <td>1,111</td>\n",
              "      <td>5,270</td>\n",
              "      <td>3,116</td>\n",
              "      <td>1,817</td>\n",
              "      <td>-103</td>\n",
              "      <td>673</td>\n",
              "      <td>535</td>\n",
              "      <td></td>\n",
              "    </tr>\n",
              "    <tr>\n",
              "      <th>1983</th>\n",
              "      <td>3,410</td>\n",
              "      <td>5,582</td>\n",
              "      <td>4,881</td>\n",
              "      <td>2,268</td>\n",
              "      <td>2,594</td>\n",
              "      <td>3,479</td>\n",
              "      <td>649</td>\n",
              "      <td>603</td>\n",
              "      <td></td>\n",
              "      <td></td>\n",
              "    </tr>\n",
              "    <tr>\n",
              "      <th>1984</th>\n",
              "      <td>5,655</td>\n",
              "      <td>5,900</td>\n",
              "      <td>4,211</td>\n",
              "      <td>5,500</td>\n",
              "      <td>2,159</td>\n",
              "      <td>2,658</td>\n",
              "      <td>984</td>\n",
              "      <td></td>\n",
              "      <td></td>\n",
              "      <td></td>\n",
              "    </tr>\n",
              "    <tr>\n",
              "      <th>1985</th>\n",
              "      <td>1,092</td>\n",
              "      <td>8,473</td>\n",
              "      <td>6,271</td>\n",
              "      <td>6,333</td>\n",
              "      <td>3,786</td>\n",
              "      <td>225</td>\n",
              "      <td></td>\n",
              "      <td></td>\n",
              "      <td></td>\n",
              "      <td></td>\n",
              "    </tr>\n",
              "    <tr>\n",
              "      <th>1986</th>\n",
              "      <td>1,513</td>\n",
              "      <td>4,932</td>\n",
              "      <td>5,257</td>\n",
              "      <td>1,233</td>\n",
              "      <td>2,917</td>\n",
              "      <td></td>\n",
              "      <td></td>\n",
              "      <td></td>\n",
              "      <td></td>\n",
              "      <td></td>\n",
              "    </tr>\n",
              "    <tr>\n",
              "      <th>1987</th>\n",
              "      <td>557</td>\n",
              "      <td>3,463</td>\n",
              "      <td>6,926</td>\n",
              "      <td>1,368</td>\n",
              "      <td></td>\n",
              "      <td></td>\n",
              "      <td></td>\n",
              "      <td></td>\n",
              "      <td></td>\n",
              "      <td></td>\n",
              "    </tr>\n",
              "    <tr>\n",
              "      <th>1988</th>\n",
              "      <td>1,351</td>\n",
              "      <td>5,596</td>\n",
              "      <td>6,165</td>\n",
              "      <td></td>\n",
              "      <td></td>\n",
              "      <td></td>\n",
              "      <td></td>\n",
              "      <td></td>\n",
              "      <td></td>\n",
              "      <td></td>\n",
              "    </tr>\n",
              "    <tr>\n",
              "      <th>1989</th>\n",
              "      <td>3,133</td>\n",
              "      <td>2,262</td>\n",
              "      <td></td>\n",
              "      <td></td>\n",
              "      <td></td>\n",
              "      <td></td>\n",
              "      <td></td>\n",
              "      <td></td>\n",
              "      <td></td>\n",
              "      <td></td>\n",
              "    </tr>\n",
              "    <tr>\n",
              "      <th>1990</th>\n",
              "      <td>2,063</td>\n",
              "      <td></td>\n",
              "      <td></td>\n",
              "      <td></td>\n",
              "      <td></td>\n",
              "      <td></td>\n",
              "      <td></td>\n",
              "      <td></td>\n",
              "      <td></td>\n",
              "      <td></td>\n",
              "    </tr>\n",
              "  </tbody>\n",
              "</table>"
            ],
            "text/plain": [
              "         12      24      36      48      60      72      84     96     108    120\n",
              "1981  5012.0  3257.0  2638.0   898.0  1734.0  2642.0  1828.0  599.0   54.0  172.0\n",
              "1982   106.0  4179.0  1111.0  5270.0  3116.0  1817.0  -103.0  673.0  535.0    NaN\n",
              "1983  3410.0  5582.0  4881.0  2268.0  2594.0  3479.0   649.0  603.0    NaN    NaN\n",
              "1984  5655.0  5900.0  4211.0  5500.0  2159.0  2658.0   984.0    NaN    NaN    NaN\n",
              "1985  1092.0  8473.0  6271.0  6333.0  3786.0   225.0     NaN    NaN    NaN    NaN\n",
              "1986  1513.0  4932.0  5257.0  1233.0  2917.0     NaN     NaN    NaN    NaN    NaN\n",
              "1987   557.0  3463.0  6926.0  1368.0     NaN     NaN     NaN    NaN    NaN    NaN\n",
              "1988  1351.0  5596.0  6165.0     NaN     NaN     NaN     NaN    NaN    NaN    NaN\n",
              "1989  3133.0  2262.0     NaN     NaN     NaN     NaN     NaN    NaN    NaN    NaN\n",
              "1990  2063.0     NaN     NaN     NaN     NaN     NaN     NaN    NaN    NaN    NaN"
            ]
          },
          "metadata": {},
          "execution_count": 9
        }
      ]
    },
    {
      "cell_type": "code",
      "metadata": {
        "colab": {
          "base_uri": "https://localhost:8080/",
          "height": 563
        },
        "id": "aTCiVxC9DUUs",
        "outputId": "332028bb-8c0b-4794-dd2c-0461313522c6"
      },
      "source": [
        "#if the triangle is already cumulative then the output we will try to change it will not change\n",
        "dev_triangle_cum = dev_triangle.incr_to_cum()\n",
        "print(dev_triangle)\n",
        "dev_triangle_cum "
      ],
      "execution_count": 10,
      "outputs": [
        {
          "output_type": "stream",
          "name": "stdout",
          "text": [
            "         12       24       36       48       60       72       84       96       108      120\n",
            "1981  5012.0   8269.0  10907.0  11805.0  13539.0  16181.0  18009.0  18608.0  18662.0  18834.0\n",
            "1982   106.0   4285.0   5396.0  10666.0  13782.0  15599.0  15496.0  16169.0  16704.0      NaN\n",
            "1983  3410.0   8992.0  13873.0  16141.0  18735.0  22214.0  22863.0  23466.0      NaN      NaN\n",
            "1984  5655.0  11555.0  15766.0  21266.0  23425.0  26083.0  27067.0      NaN      NaN      NaN\n",
            "1985  1092.0   9565.0  15836.0  22169.0  25955.0  26180.0      NaN      NaN      NaN      NaN\n",
            "1986  1513.0   6445.0  11702.0  12935.0  15852.0      NaN      NaN      NaN      NaN      NaN\n",
            "1987   557.0   4020.0  10946.0  12314.0      NaN      NaN      NaN      NaN      NaN      NaN\n",
            "1988  1351.0   6947.0  13112.0      NaN      NaN      NaN      NaN      NaN      NaN      NaN\n",
            "1989  3133.0   5395.0      NaN      NaN      NaN      NaN      NaN      NaN      NaN      NaN\n",
            "1990  2063.0      NaN      NaN      NaN      NaN      NaN      NaN      NaN      NaN      NaN\n"
          ]
        },
        {
          "output_type": "execute_result",
          "data": {
            "text/html": [
              "<table border=\"1\" class=\"dataframe\">\n",
              "  <thead>\n",
              "    <tr style=\"text-align: right;\">\n",
              "      <th></th>\n",
              "      <th>12</th>\n",
              "      <th>24</th>\n",
              "      <th>36</th>\n",
              "      <th>48</th>\n",
              "      <th>60</th>\n",
              "      <th>72</th>\n",
              "      <th>84</th>\n",
              "      <th>96</th>\n",
              "      <th>108</th>\n",
              "      <th>120</th>\n",
              "    </tr>\n",
              "  </thead>\n",
              "  <tbody>\n",
              "    <tr>\n",
              "      <th>1981</th>\n",
              "      <td>5,012</td>\n",
              "      <td>8,269</td>\n",
              "      <td>10,907</td>\n",
              "      <td>11,805</td>\n",
              "      <td>13,539</td>\n",
              "      <td>16,181</td>\n",
              "      <td>18,009</td>\n",
              "      <td>18,608</td>\n",
              "      <td>18,662</td>\n",
              "      <td>18,834</td>\n",
              "    </tr>\n",
              "    <tr>\n",
              "      <th>1982</th>\n",
              "      <td>106</td>\n",
              "      <td>4,285</td>\n",
              "      <td>5,396</td>\n",
              "      <td>10,666</td>\n",
              "      <td>13,782</td>\n",
              "      <td>15,599</td>\n",
              "      <td>15,496</td>\n",
              "      <td>16,169</td>\n",
              "      <td>16,704</td>\n",
              "      <td></td>\n",
              "    </tr>\n",
              "    <tr>\n",
              "      <th>1983</th>\n",
              "      <td>3,410</td>\n",
              "      <td>8,992</td>\n",
              "      <td>13,873</td>\n",
              "      <td>16,141</td>\n",
              "      <td>18,735</td>\n",
              "      <td>22,214</td>\n",
              "      <td>22,863</td>\n",
              "      <td>23,466</td>\n",
              "      <td></td>\n",
              "      <td></td>\n",
              "    </tr>\n",
              "    <tr>\n",
              "      <th>1984</th>\n",
              "      <td>5,655</td>\n",
              "      <td>11,555</td>\n",
              "      <td>15,766</td>\n",
              "      <td>21,266</td>\n",
              "      <td>23,425</td>\n",
              "      <td>26,083</td>\n",
              "      <td>27,067</td>\n",
              "      <td></td>\n",
              "      <td></td>\n",
              "      <td></td>\n",
              "    </tr>\n",
              "    <tr>\n",
              "      <th>1985</th>\n",
              "      <td>1,092</td>\n",
              "      <td>9,565</td>\n",
              "      <td>15,836</td>\n",
              "      <td>22,169</td>\n",
              "      <td>25,955</td>\n",
              "      <td>26,180</td>\n",
              "      <td></td>\n",
              "      <td></td>\n",
              "      <td></td>\n",
              "      <td></td>\n",
              "    </tr>\n",
              "    <tr>\n",
              "      <th>1986</th>\n",
              "      <td>1,513</td>\n",
              "      <td>6,445</td>\n",
              "      <td>11,702</td>\n",
              "      <td>12,935</td>\n",
              "      <td>15,852</td>\n",
              "      <td></td>\n",
              "      <td></td>\n",
              "      <td></td>\n",
              "      <td></td>\n",
              "      <td></td>\n",
              "    </tr>\n",
              "    <tr>\n",
              "      <th>1987</th>\n",
              "      <td>557</td>\n",
              "      <td>4,020</td>\n",
              "      <td>10,946</td>\n",
              "      <td>12,314</td>\n",
              "      <td></td>\n",
              "      <td></td>\n",
              "      <td></td>\n",
              "      <td></td>\n",
              "      <td></td>\n",
              "      <td></td>\n",
              "    </tr>\n",
              "    <tr>\n",
              "      <th>1988</th>\n",
              "      <td>1,351</td>\n",
              "      <td>6,947</td>\n",
              "      <td>13,112</td>\n",
              "      <td></td>\n",
              "      <td></td>\n",
              "      <td></td>\n",
              "      <td></td>\n",
              "      <td></td>\n",
              "      <td></td>\n",
              "      <td></td>\n",
              "    </tr>\n",
              "    <tr>\n",
              "      <th>1989</th>\n",
              "      <td>3,133</td>\n",
              "      <td>5,395</td>\n",
              "      <td></td>\n",
              "      <td></td>\n",
              "      <td></td>\n",
              "      <td></td>\n",
              "      <td></td>\n",
              "      <td></td>\n",
              "      <td></td>\n",
              "      <td></td>\n",
              "    </tr>\n",
              "    <tr>\n",
              "      <th>1990</th>\n",
              "      <td>2,063</td>\n",
              "      <td></td>\n",
              "      <td></td>\n",
              "      <td></td>\n",
              "      <td></td>\n",
              "      <td></td>\n",
              "      <td></td>\n",
              "      <td></td>\n",
              "      <td></td>\n",
              "      <td></td>\n",
              "    </tr>\n",
              "  </tbody>\n",
              "</table>"
            ],
            "text/plain": [
              "         12       24       36       48       60       72       84       96       108      120\n",
              "1981  5012.0   8269.0  10907.0  11805.0  13539.0  16181.0  18009.0  18608.0  18662.0  18834.0\n",
              "1982   106.0   4285.0   5396.0  10666.0  13782.0  15599.0  15496.0  16169.0  16704.0      NaN\n",
              "1983  3410.0   8992.0  13873.0  16141.0  18735.0  22214.0  22863.0  23466.0      NaN      NaN\n",
              "1984  5655.0  11555.0  15766.0  21266.0  23425.0  26083.0  27067.0      NaN      NaN      NaN\n",
              "1985  1092.0   9565.0  15836.0  22169.0  25955.0  26180.0      NaN      NaN      NaN      NaN\n",
              "1986  1513.0   6445.0  11702.0  12935.0  15852.0      NaN      NaN      NaN      NaN      NaN\n",
              "1987   557.0   4020.0  10946.0  12314.0      NaN      NaN      NaN      NaN      NaN      NaN\n",
              "1988  1351.0   6947.0  13112.0      NaN      NaN      NaN      NaN      NaN      NaN      NaN\n",
              "1989  3133.0   5395.0      NaN      NaN      NaN      NaN      NaN      NaN      NaN      NaN\n",
              "1990  2063.0      NaN      NaN      NaN      NaN      NaN      NaN      NaN      NaN      NaN"
            ]
          },
          "metadata": {},
          "execution_count": 10
        }
      ]
    },
    {
      "cell_type": "code",
      "metadata": {
        "colab": {
          "base_uri": "https://localhost:8080/",
          "height": 54
        },
        "id": "2Bt_UMgxEpKB",
        "outputId": "9839df03-68d8-497a-d02d-4b30093291e9"
      },
      "source": [
        "dev_triangle.T.plot(\n",
        "    marker='.', grid=True,\n",
        "    title='plot of cumulative claims payment').set(\n",
        "    xlabel='Development Period', ylabel='Cumulative Paid Loss');"
      ],
      "execution_count": 11,
      "outputs": [
        {
          "output_type": "display_data",
          "data": {
            "image/png": "[encoded data removed]",
            "text/plain": [
              "<Figure size 432x288 with 1 Axes>"
            ]
          },
          "metadata": {
            "needs_background": "light"
          }
        }
      ]
    },
    {
      "cell_type": "code",
      "metadata": {
        "colab": {
          "base_uri": "https://localhost:8080/",
          "height": 295
        },
        "id": "gwkb_veuFp-n",
        "outputId": "fd6c9120-2a8c-4f73-a29a-11848695a98a"
      },
      "source": [
        "\n",
        "dev_triangle_inc.T.plot(\n",
        "    marker='.', grid=True,\n",
        "    title='plot of incremental claims payment').set(\n",
        "    xlabel='Development Period', ylabel='Incremental Paid Loss');"
      ],
      "execution_count": 12,
      "outputs": [
        {
          "output_type": "display_data",
          "data": {
            "image/png": "[encoded data removed]",
            "text/plain": [
              "<Figure size 432x288 with 1 Axes>"
            ]
          },
          "metadata": {
            "needs_background": "light"
          }
        }
      ]
    },
    {
      "cell_type": "markdown",
      "metadata": {
        "id": "JXpH9stxGwAB"
      },
      "source": [
        "Deterministic methods"
      ]
    },
    {
      "cell_type": "markdown",
      "metadata": {
        "id": "Gj-4oK8RG7EA"
      },
      "source": [
        "Chain Ladder Method\n"
      ]
    },
    {
      "cell_type": "code",
      "metadata": {
        "colab": {
          "base_uri": "https://localhost:8080/"
        },
        "id": "ONhinRRBG2zf",
        "outputId": "2168410d-19bb-400f-9e42-341cddd96170"
      },
      "source": [
        "dev_triangle.is_cumulative"
      ],
      "execution_count": 13,
      "outputs": [
        {
          "output_type": "execute_result",
          "data": {
            "text/plain": [
              "True"
            ]
          },
          "metadata": {},
          "execution_count": 13
        }
      ]
    },
    {
      "cell_type": "code",
      "metadata": {
        "colab": {
          "base_uri": "https://localhost:8080/"
        },
        "id": "dhZygVDwHc-j",
        "outputId": "673fbef5-0621-4add-92c6-8ce4558d2457"
      },
      "source": [
        "#fitting the development triangle into the chain ladder fit method\n",
        "modeltriangle = cl.Chainladder().fit(dev_triangle)\n",
        "modeltriangle"
      ],
      "execution_count": 14,
      "outputs": [
        {
          "output_type": "execute_result",
          "data": {
            "text/plain": [
              "Chainladder()"
            ]
          },
          "metadata": {},
          "execution_count": 14
        }
      ]
    },
    {
      "cell_type": "code",
      "metadata": {
        "colab": {
          "base_uri": "https://localhost:8080/",
          "height": 383
        },
        "id": "F7WpnTjlH4ng",
        "outputId": "afb3757c-30ee-44ba-ee37-f96795922d4e"
      },
      "source": [
        "ibnr_values = (modeltriangle.full_triangle_.cum_to_incr()- dev_triangle.cum_to_incr())\n",
        "ibnr_values"
      ],
      "execution_count": 15,
      "outputs": [
        {
          "output_type": "execute_result",
          "data": {
            "text/html": [
              "<table border=\"1\" class=\"dataframe\">\n",
              "  <thead>\n",
              "    <tr style=\"text-align: right;\">\n",
              "      <th></th>\n",
              "      <th>12</th>\n",
              "      <th>24</th>\n",
              "      <th>36</th>\n",
              "      <th>48</th>\n",
              "      <th>60</th>\n",
              "      <th>72</th>\n",
              "      <th>84</th>\n",
              "      <th>96</th>\n",
              "      <th>108</th>\n",
              "      <th>120</th>\n",
              "      <th>132</th>\n",
              "      <th>9999</th>\n",
              "    </tr>\n",
              "  </thead>\n",
              "  <tbody>\n",
              "    <tr>\n",
              "      <th>1981</th>\n",
              "      <td></td>\n",
              "      <td></td>\n",
              "      <td></td>\n",
              "      <td></td>\n",
              "      <td></td>\n",
              "      <td></td>\n",
              "      <td></td>\n",
              "      <td></td>\n",
              "      <td></td>\n",
              "      <td></td>\n",
              "      <td></td>\n",
              "      <td></td>\n",
              "    </tr>\n",
              "    <tr>\n",
              "      <th>1982</th>\n",
              "      <td></td>\n",
              "      <td></td>\n",
              "      <td></td>\n",
              "      <td></td>\n",
              "      <td></td>\n",
              "      <td></td>\n",
              "      <td></td>\n",
              "      <td></td>\n",
              "      <td></td>\n",
              "      <td>154</td>\n",
              "      <td></td>\n",
              "      <td></td>\n",
              "    </tr>\n",
              "    <tr>\n",
              "      <th>1983</th>\n",
              "      <td></td>\n",
              "      <td></td>\n",
              "      <td></td>\n",
              "      <td></td>\n",
              "      <td></td>\n",
              "      <td></td>\n",
              "      <td></td>\n",
              "      <td></td>\n",
              "      <td>397</td>\n",
              "      <td>220</td>\n",
              "      <td></td>\n",
              "      <td></td>\n",
              "    </tr>\n",
              "    <tr>\n",
              "      <th>1984</th>\n",
              "      <td></td>\n",
              "      <td></td>\n",
              "      <td></td>\n",
              "      <td></td>\n",
              "      <td></td>\n",
              "      <td></td>\n",
              "      <td></td>\n",
              "      <td>900</td>\n",
              "      <td>474</td>\n",
              "      <td>262</td>\n",
              "      <td></td>\n",
              "      <td></td>\n",
              "    </tr>\n",
              "    <tr>\n",
              "      <th>1985</th>\n",
              "      <td></td>\n",
              "      <td></td>\n",
              "      <td></td>\n",
              "      <td></td>\n",
              "      <td></td>\n",
              "      <td></td>\n",
              "      <td>1,098</td>\n",
              "      <td>907</td>\n",
              "      <td>477</td>\n",
              "      <td>264</td>\n",
              "      <td></td>\n",
              "      <td></td>\n",
              "    </tr>\n",
              "    <tr>\n",
              "      <th>1986</th>\n",
              "      <td></td>\n",
              "      <td></td>\n",
              "      <td></td>\n",
              "      <td></td>\n",
              "      <td></td>\n",
              "      <td>1,797</td>\n",
              "      <td>740</td>\n",
              "      <td>612</td>\n",
              "      <td>322</td>\n",
              "      <td>178</td>\n",
              "      <td></td>\n",
              "      <td></td>\n",
              "    </tr>\n",
              "    <tr>\n",
              "      <th>1987</th>\n",
              "      <td></td>\n",
              "      <td></td>\n",
              "      <td></td>\n",
              "      <td></td>\n",
              "      <td>2,114</td>\n",
              "      <td>1,636</td>\n",
              "      <td>674</td>\n",
              "      <td>557</td>\n",
              "      <td>293</td>\n",
              "      <td>162</td>\n",
              "      <td></td>\n",
              "      <td></td>\n",
              "    </tr>\n",
              "    <tr>\n",
              "      <th>1988</th>\n",
              "      <td></td>\n",
              "      <td></td>\n",
              "      <td></td>\n",
              "      <td>3,552</td>\n",
              "      <td>2,861</td>\n",
              "      <td>2,214</td>\n",
              "      <td>912</td>\n",
              "      <td>753</td>\n",
              "      <td>396</td>\n",
              "      <td>219</td>\n",
              "      <td></td>\n",
              "      <td></td>\n",
              "    </tr>\n",
              "    <tr>\n",
              "      <th>1989</th>\n",
              "      <td></td>\n",
              "      <td></td>\n",
              "      <td>3,364</td>\n",
              "      <td>2,373</td>\n",
              "      <td>1,911</td>\n",
              "      <td>1,479</td>\n",
              "      <td>609</td>\n",
              "      <td>503</td>\n",
              "      <td>265</td>\n",
              "      <td>147</td>\n",
              "      <td></td>\n",
              "      <td></td>\n",
              "    </tr>\n",
              "    <tr>\n",
              "      <th>1990</th>\n",
              "      <td></td>\n",
              "      <td>4,125</td>\n",
              "      <td>3,858</td>\n",
              "      <td>2,721</td>\n",
              "      <td>2,192</td>\n",
              "      <td>1,696</td>\n",
              "      <td>698</td>\n",
              "      <td>577</td>\n",
              "      <td>304</td>\n",
              "      <td>168</td>\n",
              "      <td></td>\n",
              "      <td></td>\n",
              "    </tr>\n",
              "  </tbody>\n",
              "</table>"
            ],
            "text/plain": [
              "      12           24           36           48           60           72           84          96          108         120   132   9999\n",
              "1981   NaN          NaN          NaN          NaN          NaN          NaN          NaN         NaN         NaN         NaN   NaN   NaN\n",
              "1982   NaN          NaN          NaN          NaN          NaN          NaN          NaN         NaN         NaN  153.953917   NaN   NaN\n",
              "1983   NaN          NaN          NaN          NaN          NaN          NaN          NaN         NaN  397.431463  219.939460   NaN   NaN\n",
              "1984   NaN          NaN          NaN          NaN          NaN          NaN          NaN  900.344610  473.668401  262.129152   NaN   NaN\n",
              "1985   NaN          NaN          NaN          NaN          NaN          NaN  1097.848821  907.358191  477.358223  264.171108   NaN   NaN\n",
              "1986   NaN          NaN          NaN          NaN          NaN  1797.377216   740.120243  611.700038  321.813421  178.092267   NaN   NaN\n",
              "1987   NaN          NaN          NaN          NaN  2114.001432  1635.917301   673.634615  556.750506  292.904649  162.094088   NaN   NaN\n",
              "1988   NaN          NaN          NaN  3551.884964  2860.766337  2213.800366   911.594099  753.421016  396.372371  219.353356   NaN   NaN\n",
              "1989   NaN          NaN  3363.905256  2372.683335  1911.011387  1478.833714   608.951064  503.290367  264.779442  146.529535   NaN   NaN\n",
              "1990   NaN  4124.676898  3858.157339  2721.297100  2191.792588  1696.115887   698.423064  577.237846  303.682972  168.058836   NaN   NaN"
            ]
          },
          "metadata": {},
          "execution_count": 15
        }
      ]
    },
    {
      "cell_type": "code",
      "metadata": {
        "colab": {
          "base_uri": "https://localhost:8080/",
          "height": 383
        },
        "id": "koAWugeYLdtH",
        "outputId": "c93712d3-7b12-45e2-e4ec-84f4220d9d33"
      },
      "source": [
        "#cumulative estimated full triangle\n",
        "full_triangle = modeltriangle.full_triangle_\n",
        "full_triangle"
      ],
      "execution_count": 16,
      "outputs": [
        {
          "output_type": "execute_result",
          "data": {
            "text/html": [
              "<table border=\"1\" class=\"dataframe\">\n",
              "  <thead>\n",
              "    <tr style=\"text-align: right;\">\n",
              "      <th></th>\n",
              "      <th>12</th>\n",
              "      <th>24</th>\n",
              "      <th>36</th>\n",
              "      <th>48</th>\n",
              "      <th>60</th>\n",
              "      <th>72</th>\n",
              "      <th>84</th>\n",
              "      <th>96</th>\n",
              "      <th>108</th>\n",
              "      <th>120</th>\n",
              "      <th>132</th>\n",
              "      <th>9999</th>\n",
              "    </tr>\n",
              "  </thead>\n",
              "  <tbody>\n",
              "    <tr>\n",
              "      <th>1981</th>\n",
              "      <td>5,012</td>\n",
              "      <td>8,269</td>\n",
              "      <td>10,907</td>\n",
              "      <td>11,805</td>\n",
              "      <td>13,539</td>\n",
              "      <td>16,181</td>\n",
              "      <td>18,009</td>\n",
              "      <td>18,608</td>\n",
              "      <td>18,662</td>\n",
              "      <td>18,834</td>\n",
              "      <td>18,834</td>\n",
              "      <td>18,834</td>\n",
              "    </tr>\n",
              "    <tr>\n",
              "      <th>1982</th>\n",
              "      <td>106</td>\n",
              "      <td>4,285</td>\n",
              "      <td>5,396</td>\n",
              "      <td>10,666</td>\n",
              "      <td>13,782</td>\n",
              "      <td>15,599</td>\n",
              "      <td>15,496</td>\n",
              "      <td>16,169</td>\n",
              "      <td>16,704</td>\n",
              "      <td>16,858</td>\n",
              "      <td>16,858</td>\n",
              "      <td>16,858</td>\n",
              "    </tr>\n",
              "    <tr>\n",
              "      <th>1983</th>\n",
              "      <td>3,410</td>\n",
              "      <td>8,992</td>\n",
              "      <td>13,873</td>\n",
              "      <td>16,141</td>\n",
              "      <td>18,735</td>\n",
              "      <td>22,214</td>\n",
              "      <td>22,863</td>\n",
              "      <td>23,466</td>\n",
              "      <td>23,863</td>\n",
              "      <td>24,083</td>\n",
              "      <td>24,083</td>\n",
              "      <td>24,083</td>\n",
              "    </tr>\n",
              "    <tr>\n",
              "      <th>1984</th>\n",
              "      <td>5,655</td>\n",
              "      <td>11,555</td>\n",
              "      <td>15,766</td>\n",
              "      <td>21,266</td>\n",
              "      <td>23,425</td>\n",
              "      <td>26,083</td>\n",
              "      <td>27,067</td>\n",
              "      <td>27,967</td>\n",
              "      <td>28,441</td>\n",
              "      <td>28,703</td>\n",
              "      <td>28,703</td>\n",
              "      <td>28,703</td>\n",
              "    </tr>\n",
              "    <tr>\n",
              "      <th>1985</th>\n",
              "      <td>1,092</td>\n",
              "      <td>9,565</td>\n",
              "      <td>15,836</td>\n",
              "      <td>22,169</td>\n",
              "      <td>25,955</td>\n",
              "      <td>26,180</td>\n",
              "      <td>27,278</td>\n",
              "      <td>28,185</td>\n",
              "      <td>28,663</td>\n",
              "      <td>28,927</td>\n",
              "      <td>28,927</td>\n",
              "      <td>28,927</td>\n",
              "    </tr>\n",
              "    <tr>\n",
              "      <th>1986</th>\n",
              "      <td>1,513</td>\n",
              "      <td>6,445</td>\n",
              "      <td>11,702</td>\n",
              "      <td>12,935</td>\n",
              "      <td>15,852</td>\n",
              "      <td>17,649</td>\n",
              "      <td>18,389</td>\n",
              "      <td>19,001</td>\n",
              "      <td>19,323</td>\n",
              "      <td>19,501</td>\n",
              "      <td>19,501</td>\n",
              "      <td>19,501</td>\n",
              "    </tr>\n",
              "    <tr>\n",
              "      <th>1987</th>\n",
              "      <td>557</td>\n",
              "      <td>4,020</td>\n",
              "      <td>10,946</td>\n",
              "      <td>12,314</td>\n",
              "      <td>14,428</td>\n",
              "      <td>16,064</td>\n",
              "      <td>16,738</td>\n",
              "      <td>17,294</td>\n",
              "      <td>17,587</td>\n",
              "      <td>17,749</td>\n",
              "      <td>17,749</td>\n",
              "      <td>17,749</td>\n",
              "    </tr>\n",
              "    <tr>\n",
              "      <th>1988</th>\n",
              "      <td>1,351</td>\n",
              "      <td>6,947</td>\n",
              "      <td>13,112</td>\n",
              "      <td>16,664</td>\n",
              "      <td>19,525</td>\n",
              "      <td>21,738</td>\n",
              "      <td>22,650</td>\n",
              "      <td>23,403</td>\n",
              "      <td>23,800</td>\n",
              "      <td>24,019</td>\n",
              "      <td>24,019</td>\n",
              "      <td>24,019</td>\n",
              "    </tr>\n",
              "    <tr>\n",
              "      <th>1989</th>\n",
              "      <td>3,133</td>\n",
              "      <td>5,395</td>\n",
              "      <td>8,759</td>\n",
              "      <td>11,132</td>\n",
              "      <td>13,043</td>\n",
              "      <td>14,521</td>\n",
              "      <td>15,130</td>\n",
              "      <td>15,634</td>\n",
              "      <td>15,898</td>\n",
              "      <td>16,045</td>\n",
              "      <td>16,045</td>\n",
              "      <td>16,045</td>\n",
              "    </tr>\n",
              "    <tr>\n",
              "      <th>1990</th>\n",
              "      <td>2,063</td>\n",
              "      <td>6,188</td>\n",
              "      <td>10,046</td>\n",
              "      <td>12,767</td>\n",
              "      <td>14,959</td>\n",
              "      <td>16,655</td>\n",
              "      <td>17,353</td>\n",
              "      <td>17,931</td>\n",
              "      <td>18,234</td>\n",
              "      <td>18,402</td>\n",
              "      <td>18,402</td>\n",
              "      <td>18,402</td>\n",
              "    </tr>\n",
              "  </tbody>\n",
              "</table>"
            ],
            "text/plain": [
              "        12            24            36            48            60            72            84            96            108           120           132           9999\n",
              "1981  5012.0   8269.000000  10907.000000  11805.000000  13539.000000  16181.000000  18009.000000  18608.000000  18662.000000  18834.000000  18834.000000  18834.000000\n",
              "1982   106.0   4285.000000   5396.000000  10666.000000  13782.000000  15599.000000  15496.000000  16169.000000  16704.000000  16857.953917  16857.953917  16857.953917\n",
              "1983  3410.0   8992.000000  13873.000000  16141.000000  18735.000000  22214.000000  22863.000000  23466.000000  23863.431463  24083.370924  24083.370924  24083.370924\n",
              "1984  5655.0  11555.000000  15766.000000  21266.000000  23425.000000  26083.000000  27067.000000  27967.344610  28441.013011  28703.142163  28703.142163  28703.142163\n",
              "1985  1092.0   9565.000000  15836.000000  22169.000000  25955.000000  26180.000000  27277.848821  28185.207012  28662.565235  28926.736343  28926.736343  28926.736343\n",
              "1986  1513.0   6445.000000  11702.000000  12935.000000  15852.000000  17649.377216  18389.497459  19001.197497  19323.010917  19501.103184  19501.103184  19501.103184\n",
              "1987   557.0   4020.000000  10946.000000  12314.000000  14428.001432  16063.918732  16737.553348  17294.303854  17587.208503  17749.302590  17749.302590  17749.302590\n",
              "1988  1351.0   6947.000000  13112.000000  16663.884964  19524.651301  21738.451667  22650.045767  23403.466783  23799.839153  24019.192510  24019.192510  24019.192510\n",
              "1989  3133.0   5395.000000   8758.905256  11131.588591  13042.599978  14521.433693  15130.384757  15633.675124  15898.454566  16044.984101  16044.984101  16044.984101\n",
              "1990  2063.0   6187.676898  10045.834236  12767.131337  14958.923924  16655.039811  17353.462875  17930.700721  18234.383693  18402.442529  18402.442529  18402.442529"
            ]
          },
          "metadata": {},
          "execution_count": 16
        }
      ]
    },
    {
      "cell_type": "code",
      "metadata": {
        "colab": {
          "base_uri": "https://localhost:8080/",
          "height": 363
        },
        "id": "Hw9Z5V4ILmQY",
        "outputId": "600e4454-6710-45f3-fb7e-ed513d527e40"
      },
      "source": [
        "#incremental estimated full triangle\n",
        "full_triangle.cum_to_incr()"
      ],
      "execution_count": 17,
      "outputs": [
        {
          "output_type": "execute_result",
          "data": {
            "text/html": [
              "<table border=\"1\" class=\"dataframe\">\n",
              "  <thead>\n",
              "    <tr style=\"text-align: right;\">\n",
              "      <th></th>\n",
              "      <th>12</th>\n",
              "      <th>24</th>\n",
              "      <th>36</th>\n",
              "      <th>48</th>\n",
              "      <th>60</th>\n",
              "      <th>72</th>\n",
              "      <th>84</th>\n",
              "      <th>96</th>\n",
              "      <th>108</th>\n",
              "      <th>120</th>\n",
              "      <th>132</th>\n",
              "      <th>9999</th>\n",
              "    </tr>\n",
              "  </thead>\n",
              "  <tbody>\n",
              "    <tr>\n",
              "      <th>1981</th>\n",
              "      <td>5,012</td>\n",
              "      <td>3,257</td>\n",
              "      <td>2,638</td>\n",
              "      <td>898</td>\n",
              "      <td>1,734</td>\n",
              "      <td>2,642</td>\n",
              "      <td>1,828</td>\n",
              "      <td>599</td>\n",
              "      <td>54</td>\n",
              "      <td>172</td>\n",
              "      <td></td>\n",
              "      <td></td>\n",
              "    </tr>\n",
              "    <tr>\n",
              "      <th>1982</th>\n",
              "      <td>106</td>\n",
              "      <td>4,179</td>\n",
              "      <td>1,111</td>\n",
              "      <td>5,270</td>\n",
              "      <td>3,116</td>\n",
              "      <td>1,817</td>\n",
              "      <td>-103</td>\n",
              "      <td>673</td>\n",
              "      <td>535</td>\n",
              "      <td>154</td>\n",
              "      <td></td>\n",
              "      <td></td>\n",
              "    </tr>\n",
              "    <tr>\n",
              "      <th>1983</th>\n",
              "      <td>3,410</td>\n",
              "      <td>5,582</td>\n",
              "      <td>4,881</td>\n",
              "      <td>2,268</td>\n",
              "      <td>2,594</td>\n",
              "      <td>3,479</td>\n",
              "      <td>649</td>\n",
              "      <td>603</td>\n",
              "      <td>397</td>\n",
              "      <td>220</td>\n",
              "      <td></td>\n",
              "      <td></td>\n",
              "    </tr>\n",
              "    <tr>\n",
              "      <th>1984</th>\n",
              "      <td>5,655</td>\n",
              "      <td>5,900</td>\n",
              "      <td>4,211</td>\n",
              "      <td>5,500</td>\n",
              "      <td>2,159</td>\n",
              "      <td>2,658</td>\n",
              "      <td>984</td>\n",
              "      <td>900</td>\n",
              "      <td>474</td>\n",
              "      <td>262</td>\n",
              "      <td></td>\n",
              "      <td></td>\n",
              "    </tr>\n",
              "    <tr>\n",
              "      <th>1985</th>\n",
              "      <td>1,092</td>\n",
              "      <td>8,473</td>\n",
              "      <td>6,271</td>\n",
              "      <td>6,333</td>\n",
              "      <td>3,786</td>\n",
              "      <td>225</td>\n",
              "      <td>1,098</td>\n",
              "      <td>907</td>\n",
              "      <td>477</td>\n",
              "      <td>264</td>\n",
              "      <td></td>\n",
              "      <td></td>\n",
              "    </tr>\n",
              "    <tr>\n",
              "      <th>1986</th>\n",
              "      <td>1,513</td>\n",
              "      <td>4,932</td>\n",
              "      <td>5,257</td>\n",
              "      <td>1,233</td>\n",
              "      <td>2,917</td>\n",
              "      <td>1,797</td>\n",
              "      <td>740</td>\n",
              "      <td>612</td>\n",
              "      <td>322</td>\n",
              "      <td>178</td>\n",
              "      <td></td>\n",
              "      <td></td>\n",
              "    </tr>\n",
              "    <tr>\n",
              "      <th>1987</th>\n",
              "      <td>557</td>\n",
              "      <td>3,463</td>\n",
              "      <td>6,926</td>\n",
              "      <td>1,368</td>\n",
              "      <td>2,114</td>\n",
              "      <td>1,636</td>\n",
              "      <td>674</td>\n",
              "      <td>557</td>\n",
              "      <td>293</td>\n",
              "      <td>162</td>\n",
              "      <td></td>\n",
              "      <td></td>\n",
              "    </tr>\n",
              "    <tr>\n",
              "      <th>1988</th>\n",
              "      <td>1,351</td>\n",
              "      <td>5,596</td>\n",
              "      <td>6,165</td>\n",
              "      <td>3,552</td>\n",
              "      <td>2,861</td>\n",
              "      <td>2,214</td>\n",
              "      <td>912</td>\n",
              "      <td>753</td>\n",
              "      <td>396</td>\n",
              "      <td>219</td>\n",
              "      <td></td>\n",
              "      <td></td>\n",
              "    </tr>\n",
              "    <tr>\n",
              "      <th>1989</th>\n",
              "      <td>3,133</td>\n",
              "      <td>2,262</td>\n",
              "      <td>3,364</td>\n",
              "      <td>2,373</td>\n",
              "      <td>1,911</td>\n",
              "      <td>1,479</td>\n",
              "      <td>609</td>\n",
              "      <td>503</td>\n",
              "      <td>265</td>\n",
              "      <td>147</td>\n",
              "      <td></td>\n",
              "      <td></td>\n",
              "    </tr>\n",
              "    <tr>\n",
              "      <th>1990</th>\n",
              "      <td>2,063</td>\n",
              "      <td>4,125</td>\n",
              "      <td>3,858</td>\n",
              "      <td>2,721</td>\n",
              "      <td>2,192</td>\n",
              "      <td>1,696</td>\n",
              "      <td>698</td>\n",
              "      <td>577</td>\n",
              "      <td>304</td>\n",
              "      <td>168</td>\n",
              "      <td></td>\n",
              "      <td></td>\n",
              "    </tr>\n",
              "  </tbody>\n",
              "</table>"
            ],
            "text/plain": [
              "        12           24           36           48           60           72           84          96          108         120   132   9999\n",
              "1981  5012.0  3257.000000  2638.000000   898.000000  1734.000000  2642.000000  1828.000000  599.000000   54.000000  172.000000   NaN   NaN\n",
              "1982   106.0  4179.000000  1111.000000  5270.000000  3116.000000  1817.000000  -103.000000  673.000000  535.000000  153.953917   NaN   NaN\n",
              "1983  3410.0  5582.000000  4881.000000  2268.000000  2594.000000  3479.000000   649.000000  603.000000  397.431463  219.939460   NaN   NaN\n",
              "1984  5655.0  5900.000000  4211.000000  5500.000000  2159.000000  2658.000000   984.000000  900.344610  473.668401  262.129152   NaN   NaN\n",
              "1985  1092.0  8473.000000  6271.000000  6333.000000  3786.000000   225.000000  1097.848821  907.358191  477.358223  264.171108   NaN   NaN\n",
              "1986  1513.0  4932.000000  5257.000000  1233.000000  2917.000000  1797.377216   740.120243  611.700038  321.813421  178.092267   NaN   NaN\n",
              "1987   557.0  3463.000000  6926.000000  1368.000000  2114.001432  1635.917301   673.634615  556.750506  292.904649  162.094088   NaN   NaN\n",
              "1988  1351.0  5596.000000  6165.000000  3551.884964  2860.766337  2213.800366   911.594099  753.421016  396.372371  219.353356   NaN   NaN\n",
              "1989  3133.0  2262.000000  3363.905256  2372.683335  1911.011387  1478.833714   608.951064  503.290367  264.779442  146.529535   NaN   NaN\n",
              "1990  2063.0  4124.676898  3858.157339  2721.297100  2191.792588  1696.115887   698.423064  577.237846  303.682972  168.058836   NaN   NaN"
            ]
          },
          "metadata": {},
          "execution_count": 17
        }
      ]
    },
    {
      "cell_type": "code",
      "metadata": {
        "id": "2fgouHapMw4W"
      },
      "source": [
        "ultimate_loss= full_triangle.latest_diagonal"
      ],
      "execution_count": 18,
      "outputs": []
    },
    {
      "cell_type": "code",
      "metadata": {
        "colab": {
          "base_uri": "https://localhost:8080/"
        },
        "id": "2CIpQodmMCSx",
        "outputId": "7de474df-2751-4e1b-ae0c-10cc50d35472"
      },
      "source": [
        "#taking ultimate loss on all years\n",
        "print(\"total sum of ultimate loss is\")\n",
        "ultimate_sum= ultimate_loss.sum()\n",
        "print(ultimate_sum)\n"
      ],
      "execution_count": 19,
      "outputs": [
        {
          "output_type": "stream",
          "name": "stdout",
          "text": [
            "total sum of ultimate loss is\n",
            "213122.22826121017\n"
          ]
        }
      ]
    },
    {
      "cell_type": "code",
      "metadata": {
        "colab": {
          "base_uri": "https://localhost:8080/"
        },
        "id": "atFoapIZMX6h",
        "outputId": "ce07ede6-33cc-48c7-f492-47af716ee663"
      },
      "source": [
        "#sum total of paid loss\n",
        "print(\"sum total of paid loss:\")\n",
        "paid_sum = latest_paid.sum()\n",
        "print(paid_sum)"
      ],
      "execution_count": 20,
      "outputs": [
        {
          "output_type": "stream",
          "name": "stdout",
          "text": [
            "sum total of paid loss:\n",
            "160987.0\n"
          ]
        }
      ]
    },
    {
      "cell_type": "code",
      "metadata": {
        "colab": {
          "base_uri": "https://localhost:8080/"
        },
        "id": "fkNdN4QfNo5e",
        "outputId": "b943716a-16d5-4430-a14c-16e8125f3ca0"
      },
      "source": [
        "#sum of total of IBNR loss\n",
        "print(\"outstanding or ibnr total loss is\")\n",
        "ibnr_sum = ultimate_sum-paid_sum\n",
        "print(ibnr_sum)"
      ],
      "execution_count": 21,
      "outputs": [
        {
          "output_type": "stream",
          "name": "stdout",
          "text": [
            "outstanding or ibnr total loss is\n",
            "52135.22826121017\n"
          ]
        }
      ]
    },
    {
      "cell_type": "markdown",
      "metadata": {
        "id": "2QddmvwXS_5u"
      },
      "source": [
        "Tail_factors"
      ]
    },
    {
      "cell_type": "code",
      "metadata": {
        "colab": {
          "base_uri": "https://localhost:8080/",
          "height": 208
        },
        "id": "mnyPcRP5S6re",
        "outputId": "fa0c0f0e-4be4-46c3-f271-7bec10fe245c"
      },
      "source": [
        "tail = cl.TailCurve().fit(dev_triangle)\n",
        "print(\"cumulative development factors\")\n",
        "print(tail.cdf_)\n",
        "print(\"Loss development factors\")\n",
        "print(tail.ldf_)\n",
        "print(\"Tail estimates of next two years\")\n",
        "tail.cdf_[~tail.ldf_.development.isin(dev_triangle.link_ratio.development)]"
      ],
      "execution_count": 22,
      "outputs": [
        {
          "output_type": "stream",
          "name": "stdout",
          "text": [
            "cumulative development factors\n",
            "         12-Ult    24-Ult    36-Ult    48-Ult    60-Ult    72-Ult    84-Ult    96-Ult   108-Ult   120-Ult   132-Ult\n",
            "(All)  9.004403  3.002109  1.849133  1.454993  1.241806  1.115343  1.070454  1.035993  1.018739  1.009436  1.005006\n",
            "Loss development factors\n",
            "          12-24     24-36     36-48     48-60     60-72     72-84     84-96    96-108   108-120   120-132   132-144\n",
            "(All)  2.999359  1.623523  1.270888  1.171675  1.113385  1.041935  1.033264  1.016936  1.009217  1.004408  1.005006\n",
            "Tail estimates of next two years\n"
          ]
        },
        {
          "output_type": "execute_result",
          "data": {
            "text/html": [
              "<table border=\"1\" class=\"dataframe\">\n",
              "  <thead>\n",
              "    <tr style=\"text-align: right;\">\n",
              "      <th></th>\n",
              "      <th>120-Ult</th>\n",
              "      <th>132-Ult</th>\n",
              "    </tr>\n",
              "  </thead>\n",
              "  <tbody>\n",
              "    <tr>\n",
              "      <th>(All)</th>\n",
              "      <td>1.0094</td>\n",
              "      <td>1.0050</td>\n",
              "    </tr>\n",
              "  </tbody>\n",
              "</table>"
            ],
            "text/plain": [
              "        120-Ult   132-Ult\n",
              "(All)  1.009436  1.005006"
            ]
          },
          "metadata": {},
          "execution_count": 22
        }
      ]
    },
    {
      "cell_type": "markdown",
      "metadata": {
        "id": "T6MpoxkNhQET"
      },
      "source": [
        "Mack Chain Ladder\n"
      ]
    },
    {
      "cell_type": "code",
      "metadata": {
        "colab": {
          "base_uri": "https://localhost:8080/"
        },
        "id": "rwl0b4NrUpI0",
        "outputId": "ed39f0f6-ee23-45ee-e928-f2e6da448188"
      },
      "source": [
        "data = cl.load_sample('raa')\n",
        "mack = cl.MackChainladder()\n",
        "dev=cl.Development(average='volume')\n",
        "mack.fit(dev.fit_transform(data))\n",
        "mack"
      ],
      "execution_count": 23,
      "outputs": [
        {
          "output_type": "execute_result",
          "data": {
            "text/plain": [
              "MackChainladder()"
            ]
          },
          "metadata": {},
          "execution_count": 23
        }
      ]
    },
    {
      "cell_type": "code",
      "metadata": {
        "colab": {
          "base_uri": "https://localhost:8080/",
          "height": 311
        },
        "id": "n6jBPn1eiHBb",
        "outputId": "25a0538e-44a2-42ee-f7e5-1faf8f320e40"
      },
      "source": [
        "plot_data = mack.summary_.to_frame()\n",
        "g = plot_data[['Latest', 'IBNR']].plot(\n",
        "    kind='bar', stacked=True, ylim=(0, None), grid=True,\n",
        "    yerr=pd.DataFrame({'latest': plot_data['Mack Std Err']*0,\n",
        "                       'IBNR': plot_data['Mack Std Err']}),\n",
        "    title='Mack Chainladder Ultimate').set(\n",
        "    xlabel='Accident Year', ylabel='Loss');"
      ],
      "execution_count": 24,
      "outputs": [
        {
          "output_type": "display_data",
          "data": {
            "image/png": "[encoded data removed]",
            "text/plain": [
              "<Figure size 432x288 with 1 Axes>"
            ]
          },
          "metadata": {
            "needs_background": "light"
          }
        }
      ]
    },
    {
      "cell_type": "code",
      "metadata": {
        "colab": {
          "base_uri": "https://localhost:8080/",
          "height": 363
        },
        "id": "rD2fFzPkymBe",
        "outputId": "7cb7155b-1198-4869-8428-8fd01ad55d6b"
      },
      "source": [
        "mack.parameter_risk_ #getting the parameters risk of ibnr"
      ],
      "execution_count": 25,
      "outputs": [
        {
          "output_type": "execute_result",
          "data": {
            "text/html": [
              "<table border=\"1\" class=\"dataframe\">\n",
              "  <thead>\n",
              "    <tr style=\"text-align: right;\">\n",
              "      <th></th>\n",
              "      <th>12</th>\n",
              "      <th>24</th>\n",
              "      <th>36</th>\n",
              "      <th>48</th>\n",
              "      <th>60</th>\n",
              "      <th>72</th>\n",
              "      <th>84</th>\n",
              "      <th>96</th>\n",
              "      <th>108</th>\n",
              "      <th>120</th>\n",
              "      <th>9999</th>\n",
              "    </tr>\n",
              "  </thead>\n",
              "  <tbody>\n",
              "    <tr>\n",
              "      <th>1981</th>\n",
              "      <td>0.00</td>\n",
              "      <td>0.00</td>\n",
              "      <td>0.00</td>\n",
              "      <td>0.00</td>\n",
              "      <td>0.00</td>\n",
              "      <td>0.00</td>\n",
              "      <td>0.00</td>\n",
              "      <td>0.00</td>\n",
              "      <td>0.00</td>\n",
              "      <td>0.00</td>\n",
              "      <td>0.00</td>\n",
              "    </tr>\n",
              "    <tr>\n",
              "      <th>1982</th>\n",
              "      <td>0.00</td>\n",
              "      <td>0.00</td>\n",
              "      <td>0.00</td>\n",
              "      <td>0.00</td>\n",
              "      <td>0.00</td>\n",
              "      <td>0.00</td>\n",
              "      <td>0.00</td>\n",
              "      <td>0.00</td>\n",
              "      <td>0.00</td>\n",
              "      <td>98.23</td>\n",
              "      <td>98.23</td>\n",
              "    </tr>\n",
              "    <tr>\n",
              "      <th>1983</th>\n",
              "      <td>0.00</td>\n",
              "      <td>0.00</td>\n",
              "      <td>0.00</td>\n",
              "      <td>0.00</td>\n",
              "      <td>0.00</td>\n",
              "      <td>0.00</td>\n",
              "      <td>0.00</td>\n",
              "      <td>0.00</td>\n",
              "      <td>353.30</td>\n",
              "      <td>383.18</td>\n",
              "      <td>383.18</td>\n",
              "    </tr>\n",
              "    <tr>\n",
              "      <th>1984</th>\n",
              "      <td>0.00</td>\n",
              "      <td>0.00</td>\n",
              "      <td>0.00</td>\n",
              "      <td>0.00</td>\n",
              "      <td>0.00</td>\n",
              "      <td>0.00</td>\n",
              "      <td>0.00</td>\n",
              "      <td>132.14</td>\n",
              "      <td>441.99</td>\n",
              "      <td>476.39</td>\n",
              "      <td>476.39</td>\n",
              "    </tr>\n",
              "    <tr>\n",
              "      <th>1985</th>\n",
              "      <td>0.00</td>\n",
              "      <td>0.00</td>\n",
              "      <td>0.00</td>\n",
              "      <td>0.00</td>\n",
              "      <td>0.00</td>\n",
              "      <td>0.00</td>\n",
              "      <td>591.09</td>\n",
              "      <td>625.10</td>\n",
              "      <td>764.31</td>\n",
              "      <td>789.56</td>\n",
              "      <td>789.56</td>\n",
              "    </tr>\n",
              "    <tr>\n",
              "      <th>1986</th>\n",
              "      <td>0.00</td>\n",
              "      <td>0.00</td>\n",
              "      <td>0.00</td>\n",
              "      <td>0.00</td>\n",
              "      <td>0.00</td>\n",
              "      <td>560.79</td>\n",
              "      <td>707.25</td>\n",
              "      <td>736.27</td>\n",
              "      <td>801.53</td>\n",
              "      <td>816.86</td>\n",
              "      <td>816.86</td>\n",
              "    </tr>\n",
              "    <tr>\n",
              "      <th>1987</th>\n",
              "      <td>0.00</td>\n",
              "      <td>0.00</td>\n",
              "      <td>0.00</td>\n",
              "      <td>0.00</td>\n",
              "      <td>312.65</td>\n",
              "      <td>617.82</td>\n",
              "      <td>738.87</td>\n",
              "      <td>767.80</td>\n",
              "      <td>823.08</td>\n",
              "      <td>837.08</td>\n",
              "      <td>837.08</td>\n",
              "    </tr>\n",
              "    <tr>\n",
              "      <th>1988</th>\n",
              "      <td>0.00</td>\n",
              "      <td>0.00</td>\n",
              "      <td>0.00</td>\n",
              "      <td>1,186.61</td>\n",
              "      <td>1,453.28</td>\n",
              "      <td>1,759.32</td>\n",
              "      <td>1,897.66</td>\n",
              "      <td>1,963.90</td>\n",
              "      <td>2,028.01</td>\n",
              "      <td>2,051.48</td>\n",
              "      <td>2,051.48</td>\n",
              "    </tr>\n",
              "    <tr>\n",
              "      <th>1989</th>\n",
              "      <td>0.00</td>\n",
              "      <td>0.00</td>\n",
              "      <td>732.84</td>\n",
              "      <td>1,223.00</td>\n",
              "      <td>1,460.57</td>\n",
              "      <td>1,690.37</td>\n",
              "      <td>1,791.51</td>\n",
              "      <td>1,852.57</td>\n",
              "      <td>1,898.59</td>\n",
              "      <td>1,918.37</td>\n",
              "      <td>1,918.37</td>\n",
              "    </tr>\n",
              "    <tr>\n",
              "      <th>1990</th>\n",
              "      <td>0.00</td>\n",
              "      <td>2,331.61</td>\n",
              "      <td>3,877.61</td>\n",
              "      <td>5,011.17</td>\n",
              "      <td>5,880.40</td>\n",
              "      <td>6,568.50</td>\n",
              "      <td>6,854.27</td>\n",
              "      <td>7,082.77</td>\n",
              "      <td>7,207.79</td>\n",
              "      <td>7,275.01</td>\n",
              "      <td>7,275.01</td>\n",
              "    </tr>\n",
              "  </tbody>\n",
              "</table>"
            ],
            "text/plain": [
              "      12           24           36           48           60           72           84           96           108          120          9999\n",
              "1981   0.0     0.000000     0.000000     0.000000     0.000000     0.000000     0.000000     0.000000     0.000000     0.000000     0.000000\n",
              "1982   0.0     0.000000     0.000000     0.000000     0.000000     0.000000     0.000000     0.000000     0.000000    98.230392    98.230392\n",
              "1983   0.0     0.000000     0.000000     0.000000     0.000000     0.000000     0.000000     0.000000   353.300607   383.178795   383.178795\n",
              "1984   0.0     0.000000     0.000000     0.000000     0.000000     0.000000     0.000000   132.138873   441.994251   476.392400   476.392400\n",
              "1985   0.0     0.000000     0.000000     0.000000     0.000000     0.000000   591.087145   625.098294   764.310546   789.556197   789.556197\n",
              "1986   0.0     0.000000     0.000000     0.000000     0.000000   560.791118   707.251897   736.271449   801.532807   816.862353   816.862353\n",
              "1987   0.0     0.000000     0.000000     0.000000   312.651565   617.817060   738.867082   767.804754   823.079679   837.079460   837.079460\n",
              "1988   0.0     0.000000     0.000000  1186.612608  1453.275527  1759.315898  1897.661227  1963.899588  2028.006299  2051.477386  2051.477386\n",
              "1989   0.0     0.000000   732.835862  1223.002676  1460.567588  1690.365350  1791.506609  1852.571641  1898.594696  1918.372849  1918.372849\n",
              "1990   0.0  2331.609361  3877.611134  5011.167440  5880.399121  6568.499828  6854.270136  7082.774201  7207.788851  7275.010386  7275.010386"
            ]
          },
          "metadata": {},
          "execution_count": 25
        }
      ]
    },
    {
      "cell_type": "code",
      "metadata": {
        "colab": {
          "base_uri": "https://localhost:8080/",
          "height": 363
        },
        "id": "lO7kUFnHyxuy",
        "outputId": "ee2458c2-b9fb-45af-da6a-24626c03b673"
      },
      "source": [
        "#finding out reserve variability of mack\n",
        "mack.mack_std_err_[mack.mack_std_err_.development==mack.mack_std_err_.development.max()] "
      ],
      "execution_count": 26,
      "outputs": [
        {
          "output_type": "execute_result",
          "data": {
            "text/html": [
              "<table border=\"1\" class=\"dataframe\">\n",
              "  <thead>\n",
              "    <tr style=\"text-align: right;\">\n",
              "      <th></th>\n",
              "      <th>9999</th>\n",
              "    </tr>\n",
              "  </thead>\n",
              "  <tbody>\n",
              "    <tr>\n",
              "      <th>1981</th>\n",
              "      <td></td>\n",
              "    </tr>\n",
              "    <tr>\n",
              "      <th>1982</th>\n",
              "      <td>143</td>\n",
              "    </tr>\n",
              "    <tr>\n",
              "      <th>1983</th>\n",
              "      <td>592</td>\n",
              "    </tr>\n",
              "    <tr>\n",
              "      <th>1984</th>\n",
              "      <td>713</td>\n",
              "    </tr>\n",
              "    <tr>\n",
              "      <th>1985</th>\n",
              "      <td>1,452</td>\n",
              "    </tr>\n",
              "    <tr>\n",
              "      <th>1986</th>\n",
              "      <td>1,995</td>\n",
              "    </tr>\n",
              "    <tr>\n",
              "      <th>1987</th>\n",
              "      <td>2,204</td>\n",
              "    </tr>\n",
              "    <tr>\n",
              "      <th>1988</th>\n",
              "      <td>5,354</td>\n",
              "    </tr>\n",
              "    <tr>\n",
              "      <th>1989</th>\n",
              "      <td>6,332</td>\n",
              "    </tr>\n",
              "    <tr>\n",
              "      <th>1990</th>\n",
              "      <td>24,566</td>\n",
              "    </tr>\n",
              "  </tbody>\n",
              "</table>"
            ],
            "text/plain": [
              "              9999\n",
              "1981           NaN\n",
              "1982    142.931716\n",
              "1983    592.148304\n",
              "1984    712.853921\n",
              "1985   1452.090330\n",
              "1986   1994.987807\n",
              "1987   2203.838469\n",
              "1988   5354.340512\n",
              "1989   6331.543044\n",
              "1990  24565.775709"
            ]
          },
          "metadata": {},
          "execution_count": 26
        }
      ]
    },
    {
      "cell_type": "code",
      "metadata": {
        "colab": {
          "base_uri": "https://localhost:8080/",
          "height": 418
        },
        "id": "uVsiC6uey4C-",
        "outputId": "9928f6d9-49da-4130-f294-1c3a3a0f9f6d"
      },
      "source": [
        "mack.summary_ #finding out summary of mack\n",
        "\n"
      ],
      "execution_count": 27,
      "outputs": [
        {
          "output_type": "execute_result",
          "data": {
            "text/html": [
              "<table border=\"1\" class=\"dataframe\">\n",
              "  <thead>\n",
              "    <tr style=\"text-align: right;\">\n",
              "      <th></th>\n",
              "      <th>Latest</th>\n",
              "      <th>IBNR</th>\n",
              "      <th>Ultimate</th>\n",
              "      <th>Mack Std Err</th>\n",
              "    </tr>\n",
              "  </thead>\n",
              "  <tbody>\n",
              "    <tr>\n",
              "      <th>1981</th>\n",
              "      <td>18,834</td>\n",
              "      <td></td>\n",
              "      <td>18,834</td>\n",
              "      <td></td>\n",
              "    </tr>\n",
              "    <tr>\n",
              "      <th>1982</th>\n",
              "      <td>16,704</td>\n",
              "      <td>154</td>\n",
              "      <td>16,858</td>\n",
              "      <td>143</td>\n",
              "    </tr>\n",
              "    <tr>\n",
              "      <th>1983</th>\n",
              "      <td>23,466</td>\n",
              "      <td>617</td>\n",
              "      <td>24,083</td>\n",
              "      <td>592</td>\n",
              "    </tr>\n",
              "    <tr>\n",
              "      <th>1984</th>\n",
              "      <td>27,067</td>\n",
              "      <td>1,636</td>\n",
              "      <td>28,703</td>\n",
              "      <td>713</td>\n",
              "    </tr>\n",
              "    <tr>\n",
              "      <th>1985</th>\n",
              "      <td>26,180</td>\n",
              "      <td>2,747</td>\n",
              "      <td>28,927</td>\n",
              "      <td>1,452</td>\n",
              "    </tr>\n",
              "    <tr>\n",
              "      <th>1986</th>\n",
              "      <td>15,852</td>\n",
              "      <td>3,649</td>\n",
              "      <td>19,501</td>\n",
              "      <td>1,995</td>\n",
              "    </tr>\n",
              "    <tr>\n",
              "      <th>1987</th>\n",
              "      <td>12,314</td>\n",
              "      <td>5,435</td>\n",
              "      <td>17,749</td>\n",
              "      <td>2,204</td>\n",
              "    </tr>\n",
              "    <tr>\n",
              "      <th>1988</th>\n",
              "      <td>13,112</td>\n",
              "      <td>10,907</td>\n",
              "      <td>24,019</td>\n",
              "      <td>5,354</td>\n",
              "    </tr>\n",
              "    <tr>\n",
              "      <th>1989</th>\n",
              "      <td>5,395</td>\n",
              "      <td>10,650</td>\n",
              "      <td>16,045</td>\n",
              "      <td>6,332</td>\n",
              "    </tr>\n",
              "    <tr>\n",
              "      <th>1990</th>\n",
              "      <td>2,063</td>\n",
              "      <td>16,339</td>\n",
              "      <td>18,402</td>\n",
              "      <td>24,566</td>\n",
              "    </tr>\n",
              "  </tbody>\n",
              "</table>"
            ],
            "text/plain": [
              "       Latest          IBNR      Ultimate  Mack Std Err\n",
              "1981  18834.0           NaN  18834.000000           NaN\n",
              "1982  16704.0    153.953917  16857.953917    142.931716\n",
              "1983  23466.0    617.370924  24083.370924    592.148304\n",
              "1984  27067.0   1636.142163  28703.142163    712.853921\n",
              "1985  26180.0   2746.736343  28926.736343   1452.090330\n",
              "1986  15852.0   3649.103184  19501.103184   1994.987807\n",
              "1987  12314.0   5435.302590  17749.302590   2203.838469\n",
              "1988  13112.0  10907.192510  24019.192510   5354.340512\n",
              "1989   5395.0  10649.984101  16044.984101   6331.543044\n",
              "1990   2063.0  16339.442529  18402.442529  24565.775709"
            ]
          },
          "metadata": {},
          "execution_count": 27
        }
      ]
    },
    {
      "cell_type": "code",
      "metadata": {
        "colab": {
          "base_uri": "https://localhost:8080/",
          "height": 54
        },
        "id": "mA-9Pzqfy7S1",
        "outputId": "e9424932-a3a4-4411-e7dd-6bd93a17cc91"
      },
      "source": [
        "plot_data = mack.summary_.to_frame()\n",
        "g = plot_data[['Latest', 'IBNR']] \\\n",
        "    .plot(kind='bar', stacked=True,\n",
        "          yerr=pd.DataFrame({'latest': plot_data['Mack Std Err']*0,\n",
        "                             'IBNR': plot_data['Mack Std Err']}),\n",
        "          ylim=(0, None), title='Mack Chainladder Ultimate')\n",
        "g.set_xlabel('Accident Year')\n",
        "g.set_ylabel('Loss');\n",
        "\n"
      ],
      "execution_count": 28,
      "outputs": [
        {
          "output_type": "display_data",
          "data": {
            "image/png": "[encoded data removed]",
            "text/plain": [
              "<Figure size 432x288 with 1 Axes>"
            ]
          },
          "metadata": {
            "needs_background": "light"
          }
        }
      ]
    },
    {
      "cell_type": "code",
      "metadata": {
        "colab": {
          "base_uri": "https://localhost:8080/",
          "height": 281
        },
        "id": "ARZmRjcAzJYg",
        "outputId": "50984a6d-3431-4dc4-96b5-c2d577b51f62"
      },
      "source": [
        "dist = pd.Series(np.random.normal(mack.ibnr_.sum(),\n",
        "                           mack.total_mack_std_err_.values[0, 0], size=10000))\n",
        "dist.plot(\n",
        "    kind='hist', bins=50,\n",
        "    title=\"Normally distributed IBNR estimate with a mean of \" + '{:,}'.format(round(mack.ibnr_.sum(),0))[:-2]);"
      ],
      "execution_count": 29,
      "outputs": [
        {
          "output_type": "display_data",
          "data": {
            "image/png": "[encoded data removed]",
            "text/plain": [
              "<Figure size 432x288 with 1 Axes>"
            ]
          },
          "metadata": {
            "needs_background": "light"
          }
        }
      ]
    },
    {
      "cell_type": "markdown",
      "metadata": {
        "id": "Dc7Yy5xKlMvy"
      },
      "source": [
        "POISSON REGRESSION MODEL AND DIFFERENCE BETWEEN POISSON REGRESSION MODEL AND TRADITIONAL MODEL\n"
      ]
    },
    {
      "cell_type": "code",
      "metadata": {
        "colab": {
          "base_uri": "https://localhost:8080/",
          "height": 495
        },
        "id": "mIhUpXXmnEU0",
        "outputId": "5500ce8e-e3a1-4086-fec2-8b9e727443da"
      },
      "source": [
        "#taking a new dataset called genins for the poissonn regression model it is a inbuilt dataset in the  chain ladder library\n",
        "genins= cl.load_sample('genins')\n",
        "dev = cl.TweedieGLM(\n",
        "    design_matrix = 'C(development) + C(origin)',\n",
        "    link = 'log', power = 1).fit(genins)\n",
        "glm = dev.ldf_.iloc[..., 0, :].T.iloc[:,0].rename('GLM')\n",
        "traditional = cl.Development().fit(genins).ldf_.T.iloc[:, 0].rename('Traditional')\n",
        "pd.concat((glm,traditional), 1).plot(kind='bar', title='LDF: Poisson GLM vs Traditional');\n",
        "glm\n",
        "traditional"
      ],
      "execution_count": 30,
      "outputs": [
        {
          "output_type": "execute_result",
          "data": {
            "text/plain": [
              "12-24      3.490607\n",
              "24-36      1.747333\n",
              "36-48      1.457413\n",
              "48-60      1.173852\n",
              "60-72      1.103824\n",
              "72-84      1.086269\n",
              "84-96      1.053874\n",
              "96-108     1.076555\n",
              "108-120    1.017725\n",
              "Name: Traditional, dtype: float64"
            ]
          },
          "metadata": {},
          "execution_count": 30
        },
        {
          "output_type": "display_data",
          "data": {
            "image/png": "[encoded data removed]",
            "text/plain": [
              "<Figure size 432x288 with 1 Axes>"
            ]
          },
          "metadata": {
            "needs_background": "light"
          }
        }
      ]
    },
    {
      "cell_type": "markdown",
      "metadata": {
        "id": "URwxbsRyp-JY"
      },
      "source": [
        "OVER DISPERSED POISSON BOOTSTRAP SAMPLE"
      ]
    },
    {
      "cell_type": "code",
      "metadata": {
        "colab": {
          "base_uri": "https://localhost:8080/",
          "height": 370
        },
        "id": "sH1LFPRwq_md",
        "outputId": "944fd025-6762-4a2d-a0b6-82f7fecddf91"
      },
      "source": [
        "#performing over dispersion bootstrap samplec\n",
        "raa_triangle = cl.load_sample('RAA')\n",
        "genins_triangle = cl.load_sample('genins')\n",
        "raa_insur = cl.BootstrapODPSample().fit_transform(raa_triangle)\n",
        "sims_insur = cl.BootstrapODPSample().fit_transform(genins_triangle)\n",
        "raa_insur_ldf = cl.Development().fit(raa_insur).ldf_\n",
        "sims_insur_ldf = cl.Development().fit(sims_insur).ldf_\n",
        "raa_insur\n",
        "sims_insur\n",
        "raa_insur_ldf\n",
        "sims_insur_ldf"
      ],
      "execution_count": 31,
      "outputs": [
        {
          "output_type": "stream",
          "name": "stderr",
          "text": [
            "/usr/local/lib/python3.7/dist-packages/chainladder/utils/weighted_regression.py:76: RuntimeWarning: invalid value encountered in sqrt\n",
            "  residual = (y - fitted_value) * xp.sqrt(w)\n",
            "/usr/local/lib/python3.7/dist-packages/chainladder/development/development.py:155: RuntimeWarning: invalid value encountered in sqrt\n",
            "  / xp.swapaxes(xp.sqrt(x ** (2 - exponent))[..., 0:1, :], -1, -2)\n",
            "/usr/local/lib/python3.7/dist-packages/chainladder/development/development.py:165: RuntimeWarning: invalid value encountered in sqrt\n",
            "  std = xp.sqrt((1/num_to_nan(w))*(self.sigma_**2).values)\n"
          ]
        },
        {
          "output_type": "execute_result",
          "data": {
            "text/html": [
              "<table border=\"1\" class=\"dataframe\">\n",
              "  <thead>\n",
              "    <tr style=\"text-align: right;\">\n",
              "      <th></th>\n",
              "      <th>Triangle Summary</th>\n",
              "    </tr>\n",
              "  </thead>\n",
              "  <tbody>\n",
              "    <tr>\n",
              "      <th>Valuation:</th>\n",
              "      <td>2261-12</td>\n",
              "    </tr>\n",
              "    <tr>\n",
              "      <th>Grain:</th>\n",
              "      <td>OYDY</td>\n",
              "    </tr>\n",
              "    <tr>\n",
              "      <th>Shape:</th>\n",
              "      <td>(1000, 1, 1, 9)</td>\n",
              "    </tr>\n",
              "    <tr>\n",
              "      <th>Index:</th>\n",
              "      <td>[Total]</td>\n",
              "    </tr>\n",
              "    <tr>\n",
              "      <th>Columns:</th>\n",
              "      <td>[values]</td>\n",
              "    </tr>\n",
              "  </tbody>\n",
              "</table>"
            ],
            "text/plain": [
              "           Triangle Summary\n",
              "Valuation:          2261-12\n",
              "Grain:                 OYDY\n",
              "Shape:      (1000, 1, 1, 9)\n",
              "Index:              [Total]\n",
              "Columns:           [values]"
            ]
          },
          "metadata": {},
          "execution_count": 31
        }
      ]
    },
    {
      "cell_type": "code",
      "metadata": {
        "colab": {
          "base_uri": "https://localhost:8080/",
          "height": 91
        },
        "id": "GHJzFjbNppy8",
        "outputId": "1a04fe8d-3baa-4229-8cc1-ecdcadd26895"
      },
      "source": [
        "fig, ((ax00, ax01), (ax10, ax11)) = plt.subplots(ncols=2, nrows=2, figsize=(10,10))\n",
        "# Plot 1\n",
        "genins_triangle.T.plot(ax=ax00, grid=True).set(title='Raw Data', xlabel='Development', ylabel='Incurred')\n",
        "# Plot 2\n",
        "sims_insur.mean().T.plot(ax=ax01, grid=True).set(title='Mean Simulation', xlabel='Development')\n",
        "# Plot 3\n",
        "sims_insur_ldf.T.plot(legend=False, color='lightgray', ax=ax10, grid=True).set(\n",
        "    title='Simulated LDF', xlabel='Development', ylabel='LDF')\n",
        "cl.Development().fit(genins_triangle).ldf_.drop_duplicates().T.plot(\n",
        "    legend=False, color='red', ax=ax10, grid=True)\n",
        "# Plot 4\n",
        "sims_insur_ldf.T.loc['12-24'].plot(\n",
        "    kind='hist', bins=50, alpha=0.5, ax=ax11 , grid=True).set(\n",
        "    title='Age 12-24 LDF Distribution', xlabel='LDF');"
      ],
      "execution_count": 32,
      "outputs": [
        {
          "output_type": "stream",
          "name": "stderr",
          "text": [
            "/usr/local/lib/python3.7/dist-packages/chainladder/core/pandas.py:314: RuntimeWarning: Mean of empty slice\n",
            "  obj.values = func(obj.values, axis=axis, *args, **kwargs)\n"
          ]
        },
        {
          "output_type": "display_data",
          "data": {
            "image/png": "[encoded data removed]",
            "text/plain": [
              "<Figure size 720x720 with 4 Axes>"
            ]
          },
          "metadata": {
            "needs_background": "light"
          }
        }
      ]
    },
    {
      "cell_type": "code",
      "metadata": {
        "colab": {
          "base_uri": "https://localhost:8080/",
          "height": 657
        },
        "id": "dZm1oxIRs1V7",
        "outputId": "6c3d7954-43d1-4017-84a6-8568c861d3df"
      },
      "source": [
        "fig, ((ax00, ax01), (ax10, ax11)) = plt.subplots(ncols=2, nrows=2, figsize=(10,10))\n",
        "# Plot 1\n",
        "raa_triangle.T.plot(ax=ax00, grid=True).set(title='Raw Data', xlabel='Development', ylabel='Incurred')\n",
        "# Plot 2\n",
        "raa_insur.mean().T.plot(ax=ax01, grid=True).set(title='Mean Simulation', xlabel='Development')\n",
        "# Plot 3\n",
        "raa_insur_ldf.T.plot(legend=False, color='lightgray', ax=ax10, grid=True).set(\n",
        "    title='Simulated LDF', xlabel='Development', ylabel='LDF')\n",
        "cl.Development().fit(raa_triangle).ldf_.drop_duplicates().T.plot(\n",
        "    legend=False, color='red', ax=ax10, grid=True)\n",
        "# Plot 4\n",
        "raa_insur_ldf.T.loc['12-24'].plot(\n",
        "    kind='hist', bins=50, alpha=0.5, ax=ax11 , grid=True).set(\n",
        "    title='Age 12-24 LDF Distribution', xlabel='LDF');"
      ],
      "execution_count": 33,
      "outputs": [
        {
          "output_type": "stream",
          "name": "stderr",
          "text": [
            "/usr/local/lib/python3.7/dist-packages/chainladder/core/pandas.py:314: RuntimeWarning: Mean of empty slice\n",
            "  obj.values = func(obj.values, axis=axis, *args, **kwargs)\n"
          ]
        },
        {
          "output_type": "display_data",
          "data": {
            "image/png": "[encoded data removed]",
            "text/plain": [
              "<Figure size 720x720 with 4 Axes>"
            ]
          },
          "metadata": {
            "needs_background": "light"
          }
        }
      ]
    },
    {
      "cell_type": "code",
      "metadata": {
        "id": "fU9lZYOstVKi"
      },
      "source": [
        ""
      ],
      "execution_count": 33,
      "outputs": []
    },
    {
      "cell_type": "markdown",
      "metadata": {
        "id": "bjvfxTjUt534"
      },
      "source": [
        "ODP BOOTSTRAP MODEL COMPARISON WITH OTHER MODELS"
      ]
    },
    {
      "cell_type": "code",
      "metadata": {
        "id": "NhFDzvY_uG0N"
      },
      "source": [
        "triangle = cl.load_sample('raa')\n"
      ],
      "execution_count": 34,
      "outputs": []
    },
    {
      "cell_type": "code",
      "metadata": {
        "colab": {
          "base_uri": "https://localhost:8080/",
          "height": 206
        },
        "id": "QZwQNdUuuR4s",
        "outputId": "393197f0-abf7-47d8-ddb8-0187e15247a9"
      },
      "source": [
        "s1 = cl.BootstrapODPSample(\n",
        "    n_sims=5000, random_state=42).fit(triangle).resampled_triangles_\n",
        "s1"
      ],
      "execution_count": 35,
      "outputs": [
        {
          "output_type": "execute_result",
          "data": {
            "text/html": [
              "<table border=\"1\" class=\"dataframe\">\n",
              "  <thead>\n",
              "    <tr style=\"text-align: right;\">\n",
              "      <th></th>\n",
              "      <th>Triangle Summary</th>\n",
              "    </tr>\n",
              "  </thead>\n",
              "  <tbody>\n",
              "    <tr>\n",
              "      <th>Valuation:</th>\n",
              "      <td>1990-12</td>\n",
              "    </tr>\n",
              "    <tr>\n",
              "      <th>Grain:</th>\n",
              "      <td>OYDY</td>\n",
              "    </tr>\n",
              "    <tr>\n",
              "      <th>Shape:</th>\n",
              "      <td>(5000, 1, 10, 10)</td>\n",
              "    </tr>\n",
              "    <tr>\n",
              "      <th>Index:</th>\n",
              "      <td>[Total]</td>\n",
              "    </tr>\n",
              "    <tr>\n",
              "      <th>Columns:</th>\n",
              "      <td>[values]</td>\n",
              "    </tr>\n",
              "  </tbody>\n",
              "</table>"
            ],
            "text/plain": [
              "             Triangle Summary\n",
              "Valuation:            1990-12\n",
              "Grain:                   OYDY\n",
              "Shape:      (5000, 1, 10, 10)\n",
              "Index:                [Total]\n",
              "Columns:             [values]"
            ]
          },
          "metadata": {},
          "execution_count": 35
        }
      ]
    },
    {
      "cell_type": "code",
      "metadata": {
        "colab": {
          "base_uri": "https://localhost:8080/",
          "height": 262
        },
        "id": "_YARqO8xuqMv",
        "outputId": "92b70033-77fd-49a7-e60d-614a6a76a790"
      },
      "source": [
        "s2 = cl.BootstrapODPSample(\n",
        "    drop_high=True, drop_low=True,\n",
        "    n_sims=5000, random_state=42).fit_transform(triangle)\n",
        "s2"
      ],
      "execution_count": 36,
      "outputs": [
        {
          "output_type": "stream",
          "name": "stderr",
          "text": [
            "/usr/local/lib/python3.7/dist-packages/chainladder/development/base.py:136: UserWarning: Some exclusions have been ignored. At least 1 (use preserve = ...) link ratio(s) is required for development estimation.\n",
            "  warnings.warn(warning)\n"
          ]
        },
        {
          "output_type": "execute_result",
          "data": {
            "text/html": [
              "<table border=\"1\" class=\"dataframe\">\n",
              "  <thead>\n",
              "    <tr style=\"text-align: right;\">\n",
              "      <th></th>\n",
              "      <th>Triangle Summary</th>\n",
              "    </tr>\n",
              "  </thead>\n",
              "  <tbody>\n",
              "    <tr>\n",
              "      <th>Valuation:</th>\n",
              "      <td>1990-12</td>\n",
              "    </tr>\n",
              "    <tr>\n",
              "      <th>Grain:</th>\n",
              "      <td>OYDY</td>\n",
              "    </tr>\n",
              "    <tr>\n",
              "      <th>Shape:</th>\n",
              "      <td>(5000, 1, 10, 10)</td>\n",
              "    </tr>\n",
              "    <tr>\n",
              "      <th>Index:</th>\n",
              "      <td>[Total]</td>\n",
              "    </tr>\n",
              "    <tr>\n",
              "      <th>Columns:</th>\n",
              "      <td>[values]</td>\n",
              "    </tr>\n",
              "  </tbody>\n",
              "</table>"
            ],
            "text/plain": [
              "             Triangle Summary\n",
              "Valuation:            1990-12\n",
              "Grain:                   OYDY\n",
              "Shape:      (5000, 1, 10, 10)\n",
              "Index:                [Total]\n",
              "Columns:             [values]"
            ]
          },
          "metadata": {},
          "execution_count": 36
        }
      ]
    },
    {
      "cell_type": "code",
      "metadata": {
        "colab": {
          "base_uri": "https://localhost:8080/"
        },
        "id": "YhsE04CPvMpH",
        "outputId": "c9793814-44d9-41fe-d389-f367e243e56d"
      },
      "source": [
        "results = cl.Chainladder().fit(s1).ibnr_.sum('origin').rename('columns', ['Original'])\n",
        "# Add another column to triangle with second set of results.\n",
        "results['Dropped'] = cl.Chainladder().fit(s2).ibnr_.sum('origin')"
      ],
      "execution_count": 37,
      "outputs": [
        {
          "output_type": "stream",
          "name": "stderr",
          "text": [
            "/usr/local/lib/python3.7/dist-packages/chainladder/utils/weighted_regression.py:76: RuntimeWarning: invalid value encountered in sqrt\n",
            "  residual = (y - fitted_value) * xp.sqrt(w)\n",
            "/usr/local/lib/python3.7/dist-packages/chainladder/development/development.py:155: RuntimeWarning: invalid value encountered in sqrt\n",
            "  / xp.swapaxes(xp.sqrt(x ** (2 - exponent))[..., 0:1, :], -1, -2)\n",
            "/usr/local/lib/python3.7/dist-packages/chainladder/development/development.py:165: RuntimeWarning: invalid value encountered in sqrt\n",
            "  std = xp.sqrt((1/num_to_nan(w))*(self.sigma_**2).values)\n",
            "/usr/local/lib/python3.7/dist-packages/chainladder/tails/base.py:120: RuntimeWarning: overflow encountered in exp\n",
            "  sigma_ = xp.exp(time_pd * reg.slope_ + reg.intercept_)\n",
            "/usr/local/lib/python3.7/dist-packages/chainladder/tails/base.py:124: RuntimeWarning: overflow encountered in exp\n",
            "  std_err_ = xp.exp(time_pd * reg.slope_ + reg.intercept_)\n",
            "/usr/local/lib/python3.7/dist-packages/chainladder/tails/base.py:127: RuntimeWarning: invalid value encountered in multiply\n",
            "  sigma_ = sigma_ * 0\n",
            "/usr/local/lib/python3.7/dist-packages/chainladder/tails/base.py:128: RuntimeWarning: invalid value encountered in multiply\n",
            "  std_err_ = std_err_* 0\n"
          ]
        }
      ]
    },
    {
      "cell_type": "code",
      "metadata": {
        "colab": {
          "base_uri": "https://localhost:8080/",
          "height": 297
        },
        "id": "AF1lTflcvQU6",
        "outputId": "0b570ee8-00b4-47c5-d40b-915a586ad1ab"
      },
      "source": [
        "results.to_frame().plot(kind='hist', bins=50, alpha=0.5, grid=True).set(\n",
        "    xlabel='Ultimate')"
      ],
      "execution_count": 38,
      "outputs": [
        {
          "output_type": "execute_result",
          "data": {
            "text/plain": [
              "[Text(0.5, 0, 'Ultimate')]"
            ]
          },
          "metadata": {},
          "execution_count": 38
        },
        {
          "output_type": "display_data",
          "data": {
            "image/png": "[encoded data removed]",
            "text/plain": [
              "<Figure size 432x288 with 1 Axes>"
            ]
          },
          "metadata": {
            "needs_background": "light"
          }
        }
      ]
    },
    {
      "cell_type": "code",
      "metadata": {
        "id": "jGM8TPE8vVgx"
      },
      "source": [
        "tri_first_lags = triangle[triangle.development<=24][triangle.origin<'1990']"
      ],
      "execution_count": 39,
      "outputs": []
    },
    {
      "cell_type": "markdown",
      "metadata": {
        "id": "XFx_3MMswA_Q"
      },
      "source": [
        "Chain ladder in linear regression format"
      ]
    },
    {
      "cell_type": "code",
      "metadata": {
        "colab": {
          "base_uri": "https://localhost:8080/",
          "height": 523
        },
        "id": "QHogohnywFQx",
        "outputId": "50c0a30d-dc22-4f27-97d9-db6b7e42e499"
      },
      "source": [
        "import statsmodels.api as sm\n",
        "import numpy as np\n",
        "y = tri_first_lags .to_frame().values[:, 1]\n",
        "X = tri_first_lags .to_frame().values[:, 0]\n",
        "\n",
        "model = sm.WLS(y, X, weights=(1/X)**2)\n",
        "results = model.fit()\n",
        "results.summary()"
      ],
      "execution_count": 40,
      "outputs": [
        {
          "output_type": "stream",
          "name": "stderr",
          "text": [
            "/usr/local/lib/python3.7/dist-packages/statsmodels/tools/_testing.py:19: FutureWarning: pandas.util.testing is deprecated. Use the functions in the public API at pandas.testing instead.\n",
            "  import pandas.util.testing as tm\n",
            "/usr/local/lib/python3.7/dist-packages/scipy/stats/stats.py:1535: UserWarning: kurtosistest only valid for n>=20 ... continuing anyway, n=9\n",
            "  \"anyway, n=%i\" % int(n))\n"
          ]
        },
        {
          "output_type": "execute_result",
          "data": {
            "text/html": [
              "<table class=\"simpletable\">\n",
              "<caption>WLS Regression Results</caption>\n",
              "<tr>\n",
              "  <th>Dep. Variable:</th>            <td>y</td>        <th>  R-squared (uncentered):</th>      <td>   0.332</td>\n",
              "</tr>\n",
              "<tr>\n",
              "  <th>Model:</th>                   <td>WLS</td>       <th>  Adj. R-squared (uncentered):</th> <td>   0.249</td>\n",
              "</tr>\n",
              "<tr>\n",
              "  <th>Method:</th>             <td>Least Squares</td>  <th>  F-statistic:       </th>          <td>   3.980</td>\n",
              "</tr>\n",
              "<tr>\n",
              "  <th>Date:</th>             <td>Sat, 11 Dec 2021</td> <th>  Prob (F-statistic):</th>           <td>0.0812</td> \n",
              "</tr>\n",
              "<tr>\n",
              "  <th>Time:</th>                 <td>04:44:45</td>     <th>  Log-Likelihood:    </th>          <td> -100.71</td>\n",
              "</tr>\n",
              "<tr>\n",
              "  <th>No. Observations:</th>      <td>     9</td>      <th>  AIC:               </th>          <td>   203.4</td>\n",
              "</tr>\n",
              "<tr>\n",
              "  <th>Df Residuals:</th>          <td>     8</td>      <th>  BIC:               </th>          <td>   203.6</td>\n",
              "</tr>\n",
              "<tr>\n",
              "  <th>Df Model:</th>              <td>     1</td>      <th>                     </th>              <td> </td>   \n",
              "</tr>\n",
              "<tr>\n",
              "  <th>Covariance Type:</th>      <td>nonrobust</td>    <th>                     </th>              <td> </td>   \n",
              "</tr>\n",
              "</table>\n",
              "<table class=\"simpletable\">\n",
              "<tr>\n",
              "   <td></td>     <th>coef</th>     <th>std err</th>      <th>t</th>      <th>P>|t|</th>  <th>[0.025</th>    <th>0.975]</th>  \n",
              "</tr>\n",
              "<tr>\n",
              "  <th>x1</th> <td>    8.2061</td> <td>    4.113</td> <td>    1.995</td> <td> 0.081</td> <td>   -1.280</td> <td>   17.692</td>\n",
              "</tr>\n",
              "</table>\n",
              "<table class=\"simpletable\">\n",
              "<tr>\n",
              "  <th>Omnibus:</th>       <td>22.767</td> <th>  Durbin-Watson:     </th> <td>   2.480</td>\n",
              "</tr>\n",
              "<tr>\n",
              "  <th>Prob(Omnibus):</th> <td> 0.000</td> <th>  Jarque-Bera (JB):  </th> <td>  12.618</td>\n",
              "</tr>\n",
              "<tr>\n",
              "  <th>Skew:</th>          <td> 2.285</td> <th>  Prob(JB):          </th> <td> 0.00182</td>\n",
              "</tr>\n",
              "<tr>\n",
              "  <th>Kurtosis:</th>      <td> 6.572</td> <th>  Cond. No.          </th> <td>    1.00</td>\n",
              "</tr>\n",
              "</table><br/><br/>Warnings:<br/>[1] Standard Errors assume that the covariance matrix of the errors is correctly specified."
            ],
            "text/plain": [
              "<class 'statsmodels.iolib.summary.Summary'>\n",
              "\"\"\"\n",
              "                                 WLS Regression Results                                \n",
              "=======================================================================================\n",
              "Dep. Variable:                      y   R-squared (uncentered):                   0.332\n",
              "Model:                            WLS   Adj. R-squared (uncentered):              0.249\n",
              "Method:                 Least Squares   F-statistic:                              3.980\n",
              "Date:                Sat, 11 Dec 2021   Prob (F-statistic):                      0.0812\n",
              "Time:                        04:44:45   Log-Likelihood:                         -100.71\n",
              "No. Observations:                   9   AIC:                                      203.4\n",
              "Df Residuals:                       8   BIC:                                      203.6\n",
              "Df Model:                           1                                                  \n",
              "Covariance Type:            nonrobust                                                  \n",
              "==============================================================================\n",
              "                 coef    std err          t      P>|t|      [0.025      0.975]\n",
              "------------------------------------------------------------------------------\n",
              "x1             8.2061      4.113      1.995      0.081      -1.280      17.692\n",
              "==============================================================================\n",
              "Omnibus:                       22.767   Durbin-Watson:                   2.480\n",
              "Prob(Omnibus):                  0.000   Jarque-Bera (JB):               12.618\n",
              "Skew:                           2.285   Prob(JB):                      0.00182\n",
              "Kurtosis:                       6.572   Cond. No.                         1.00\n",
              "==============================================================================\n",
              "\n",
              "Warnings:\n",
              "[1] Standard Errors assume that the covariance matrix of the errors is correctly specified.\n",
              "\"\"\""
            ]
          },
          "metadata": {},
          "execution_count": 40
        }
      ]
    },
    {
      "cell_type": "code",
      "metadata": {
        "colab": {
          "base_uri": "https://localhost:8080/"
        },
        "id": "8OBjvjLIwajS",
        "outputId": "befcc16b-61ec-4318-dafe-ff88ccfe2619"
      },
      "source": [
        "tri_first_lags.link_ratio.to_frame().mean().values[0]"
      ],
      "execution_count": 41,
      "outputs": [
        {
          "output_type": "execute_result",
          "data": {
            "text/plain": [
              "8.206099279541355"
            ]
          },
          "metadata": {},
          "execution_count": 41
        }
      ]
    },
    {
      "cell_type": "code",
      "metadata": {
        "colab": {
          "base_uri": "https://localhost:8080/"
        },
        "id": "dkiJXo1cx8Tq",
        "outputId": "8d8f46ca-af1d-4c7a-ec49-3ed475dcf972"
      },
      "source": [
        "dev = cl.Development(average='simple').fit(triangle)\n",
        "dev"
      ],
      "execution_count": 42,
      "outputs": [
        {
          "output_type": "execute_result",
          "data": {
            "text/plain": [
              "Development(average='simple')"
            ]
          },
          "metadata": {},
          "execution_count": 42
        }
      ]
    },
    {
      "cell_type": "code",
      "metadata": {
        "colab": {
          "base_uri": "https://localhost:8080/",
          "height": 81
        },
        "id": "B-lS8gnhx-iS",
        "outputId": "3ee0468a-f528-4e83-a630-dddfb4d4fa2a"
      },
      "source": [
        "dev.std_err_\n",
        "\n"
      ],
      "execution_count": 43,
      "outputs": [
        {
          "output_type": "execute_result",
          "data": {
            "text/html": [
              "<table border=\"1\" class=\"dataframe\">\n",
              "  <thead>\n",
              "    <tr style=\"text-align: right;\">\n",
              "      <th></th>\n",
              "      <th>12-24</th>\n",
              "      <th>24-36</th>\n",
              "      <th>36-48</th>\n",
              "      <th>48-60</th>\n",
              "      <th>60-72</th>\n",
              "      <th>72-84</th>\n",
              "      <th>84-96</th>\n",
              "      <th>96-108</th>\n",
              "      <th>108-120</th>\n",
              "    </tr>\n",
              "  </thead>\n",
              "  <tbody>\n",
              "    <tr>\n",
              "      <th>(All)</th>\n",
              "      <td>4.1135</td>\n",
              "      <td>0.1676</td>\n",
              "      <td>0.1198</td>\n",
              "      <td>0.0273</td>\n",
              "      <td>0.0334</td>\n",
              "      <td>0.0251</td>\n",
              "      <td>0.0050</td>\n",
              "      <td>0.0151</td>\n",
              "      <td>0.0031</td>\n",
              "    </tr>\n",
              "  </tbody>\n",
              "</table>"
            ],
            "text/plain": [
              "          12-24     24-36     36-48     48-60     60-72     72-84     84-96    96-108   108-120\n",
              "(All)  4.113487  0.167616  0.119849  0.027269  0.033389  0.025123  0.004954  0.015093  0.003075"
            ]
          },
          "metadata": {},
          "execution_count": 43
        }
      ]
    },
    {
      "cell_type": "code",
      "metadata": {
        "colab": {
          "base_uri": "https://localhost:8080/",
          "height": 81
        },
        "id": "2Qx1vaznyefG",
        "outputId": "8580a61a-b24a-4322-b39f-0ad212fbd985"
      },
      "source": [
        "dev.sigma_"
      ],
      "execution_count": 44,
      "outputs": [
        {
          "output_type": "execute_result",
          "data": {
            "text/html": [
              "<table border=\"1\" class=\"dataframe\">\n",
              "  <thead>\n",
              "    <tr style=\"text-align: right;\">\n",
              "      <th></th>\n",
              "      <th>12-24</th>\n",
              "      <th>24-36</th>\n",
              "      <th>36-48</th>\n",
              "      <th>48-60</th>\n",
              "      <th>60-72</th>\n",
              "      <th>72-84</th>\n",
              "      <th>84-96</th>\n",
              "      <th>96-108</th>\n",
              "      <th>108-120</th>\n",
              "    </tr>\n",
              "  </thead>\n",
              "  <tbody>\n",
              "    <tr>\n",
              "      <th>(All)</th>\n",
              "      <td>12.3405</td>\n",
              "      <td>0.4741</td>\n",
              "      <td>0.3171</td>\n",
              "      <td>0.0668</td>\n",
              "      <td>0.0747</td>\n",
              "      <td>0.0502</td>\n",
              "      <td>0.0086</td>\n",
              "      <td>0.0213</td>\n",
              "      <td>0.0031</td>\n",
              "    </tr>\n",
              "  </tbody>\n",
              "</table>"
            ],
            "text/plain": [
              "           12-24     24-36     36-48     48-60     60-72     72-84     84-96    96-108   108-120\n",
              "(All)  12.340462  0.474091  0.317091  0.066796  0.074661  0.050246  0.008581  0.021345  0.003075"
            ]
          },
          "metadata": {},
          "execution_count": 44
        }
      ]
    },
    {
      "cell_type": "markdown",
      "metadata": {
        "id": "nSCMrPdNzRtm"
      },
      "source": [
        "USING DETERMINISTIC METHODS WITH BOOTSTRAP SAMPLES(BOOTSTRAP-CHAINLADDER)"
      ]
    },
    {
      "cell_type": "code",
      "metadata": {
        "id": "LqekQM9TyfIE"
      },
      "source": [
        "#TAKING NEW  SAMPLES  because bootstrap samples imposes less data constraints than mack data samples\n",
        "samples = cl.BootstrapODPSample(n_sims=10000).fit(triangle).resampled_triangles_\n",
        "samples = cl.BootstrapODPSample(n_sims=10000).fit_transform(triangle)"
      ],
      "execution_count": 45,
      "outputs": []
    },
    {
      "cell_type": "code",
      "metadata": {
        "colab": {
          "base_uri": "https://localhost:8080/"
        },
        "id": "ItFsMnuW2GlC",
        "outputId": "2df1cf10-de6c-4652-b074-9e18bed3ccd0"
      },
      "source": [
        "difference = round(1 - cl.Chainladder().fit(samples).ibnr_.sum('origin').mean() / \\\n",
        "                       cl.Chainladder().fit(triangle).ibnr_.sum())\n",
        "print(\"Percentage difference in estimate using original triangle and BootstrapODPSample is \" +str(difference))"
      ],
      "execution_count": 46,
      "outputs": [
        {
          "output_type": "stream",
          "name": "stderr",
          "text": [
            "/usr/local/lib/python3.7/dist-packages/chainladder/utils/weighted_regression.py:76: RuntimeWarning: invalid value encountered in sqrt\n",
            "  residual = (y - fitted_value) * xp.sqrt(w)\n",
            "/usr/local/lib/python3.7/dist-packages/chainladder/development/development.py:155: RuntimeWarning: invalid value encountered in sqrt\n",
            "  / xp.swapaxes(xp.sqrt(x ** (2 - exponent))[..., 0:1, :], -1, -2)\n",
            "/usr/local/lib/python3.7/dist-packages/chainladder/development/development.py:165: RuntimeWarning: invalid value encountered in sqrt\n",
            "  std = xp.sqrt((1/num_to_nan(w))*(self.sigma_**2).values)\n",
            "/usr/local/lib/python3.7/dist-packages/chainladder/tails/base.py:120: RuntimeWarning: overflow encountered in exp\n",
            "  sigma_ = xp.exp(time_pd * reg.slope_ + reg.intercept_)\n",
            "/usr/local/lib/python3.7/dist-packages/chainladder/tails/base.py:124: RuntimeWarning: overflow encountered in exp\n",
            "  std_err_ = xp.exp(time_pd * reg.slope_ + reg.intercept_)\n",
            "/usr/local/lib/python3.7/dist-packages/chainladder/tails/base.py:127: RuntimeWarning: invalid value encountered in multiply\n",
            "  sigma_ = sigma_ * 0\n",
            "/usr/local/lib/python3.7/dist-packages/chainladder/tails/base.py:128: RuntimeWarning: invalid value encountered in multiply\n",
            "  std_err_ = std_err_* 0\n"
          ]
        },
        {
          "output_type": "stream",
          "name": "stdout",
          "text": [
            "Percentage difference in estimate using original triangle and BootstrapODPSample is 0\n"
          ]
        }
      ]
    },
    {
      "cell_type": "code",
      "metadata": {
        "colab": {
          "base_uri": "https://localhost:8080/",
          "height": 261
        },
        "id": "eb04mc8H2nQb",
        "outputId": "169167d0-8d8f-4af2-e23d-386fd3ab4558"
      },
      "source": [
        "samples"
      ],
      "execution_count": 47,
      "outputs": [
        {
          "output_type": "execute_result",
          "data": {
            "text/html": [
              "<table border=\"1\" class=\"dataframe\">\n",
              "  <thead>\n",
              "    <tr style=\"text-align: right;\">\n",
              "      <th></th>\n",
              "      <th>Triangle Summary</th>\n",
              "    </tr>\n",
              "  </thead>\n",
              "  <tbody>\n",
              "    <tr>\n",
              "      <th>Valuation:</th>\n",
              "      <td>1990-12</td>\n",
              "    </tr>\n",
              "    <tr>\n",
              "      <th>Grain:</th>\n",
              "      <td>OYDY</td>\n",
              "    </tr>\n",
              "    <tr>\n",
              "      <th>Shape:</th>\n",
              "      <td>(10000, 1, 10, 10)</td>\n",
              "    </tr>\n",
              "    <tr>\n",
              "      <th>Index:</th>\n",
              "      <td>[Total]</td>\n",
              "    </tr>\n",
              "    <tr>\n",
              "      <th>Columns:</th>\n",
              "      <td>[values]</td>\n",
              "    </tr>\n",
              "  </tbody>\n",
              "</table>"
            ],
            "text/plain": [
              "              Triangle Summary\n",
              "Valuation:             1990-12\n",
              "Grain:                    OYDY\n",
              "Shape:      (10000, 1, 10, 10)\n",
              "Index:                 [Total]\n",
              "Columns:              [values]"
            ]
          },
          "metadata": {},
          "execution_count": 47
        }
      ]
    },
    {
      "cell_type": "code",
      "metadata": {
        "colab": {
          "base_uri": "https://localhost:8080/"
        },
        "id": "3tenyw1_2wjk",
        "outputId": "a750459a-97e6-41fd-ca36-412c8a6b3839"
      },
      "source": [
        "pipe = cl.Pipeline([\n",
        "    ('dev', cl.Development(average='simple')),\n",
        "    ('tail', cl.TailConstant(1.05))])\n",
        "pipe.fit(samples)"
      ],
      "execution_count": 48,
      "outputs": [
        {
          "output_type": "stream",
          "name": "stderr",
          "text": [
            "/usr/local/lib/python3.7/dist-packages/chainladder/tails/base.py:120: RuntimeWarning: overflow encountered in exp\n",
            "  sigma_ = xp.exp(time_pd * reg.slope_ + reg.intercept_)\n",
            "/usr/local/lib/python3.7/dist-packages/chainladder/tails/base.py:124: RuntimeWarning: overflow encountered in exp\n",
            "  std_err_ = xp.exp(time_pd * reg.slope_ + reg.intercept_)\n"
          ]
        },
        {
          "output_type": "execute_result",
          "data": {
            "text/plain": [
              "Pipeline(steps=[('dev', Development(average='simple')),\n",
              "                ('tail', TailConstant(tail=1.05))])"
            ]
          },
          "metadata": {},
          "execution_count": 48
        }
      ]
    },
    {
      "cell_type": "code",
      "metadata": {
        "colab": {
          "base_uri": "https://localhost:8080/",
          "height": 206
        },
        "id": "ldR9CVNa20cU",
        "outputId": "a154cae5-c01e-4f89-81ed-7e5c62768d89"
      },
      "source": [
        "pipe.named_steps.dev.cdf_\n",
        "\n"
      ],
      "execution_count": 49,
      "outputs": [
        {
          "output_type": "execute_result",
          "data": {
            "text/html": [
              "<table border=\"1\" class=\"dataframe\">\n",
              "  <thead>\n",
              "    <tr style=\"text-align: right;\">\n",
              "      <th></th>\n",
              "      <th>Triangle Summary</th>\n",
              "    </tr>\n",
              "  </thead>\n",
              "  <tbody>\n",
              "    <tr>\n",
              "      <th>Valuation:</th>\n",
              "      <td>2261-12</td>\n",
              "    </tr>\n",
              "    <tr>\n",
              "      <th>Grain:</th>\n",
              "      <td>OYDY</td>\n",
              "    </tr>\n",
              "    <tr>\n",
              "      <th>Shape:</th>\n",
              "      <td>(10000, 1, 1, 9)</td>\n",
              "    </tr>\n",
              "    <tr>\n",
              "      <th>Index:</th>\n",
              "      <td>[Total]</td>\n",
              "    </tr>\n",
              "    <tr>\n",
              "      <th>Columns:</th>\n",
              "      <td>[values]</td>\n",
              "    </tr>\n",
              "  </tbody>\n",
              "</table>"
            ],
            "text/plain": [
              "            Triangle Summary\n",
              "Valuation:           2261-12\n",
              "Grain:                  OYDY\n",
              "Shape:      (10000, 1, 1, 9)\n",
              "Index:               [Total]\n",
              "Columns:            [values]"
            ]
          },
          "metadata": {},
          "execution_count": 49
        }
      ]
    },
    {
      "cell_type": "code",
      "metadata": {
        "colab": {
          "base_uri": "https://localhost:8080/",
          "height": 317
        },
        "id": "NG7jetpt23-u",
        "outputId": "21c1b222-7124-4695-d13a-9ed87ab285b9"
      },
      "source": [
        "orig_dev = cl.Development(average='simple').fit(triangle)\n",
        "resampled_ldf = pipe.named_steps.dev.ldf_\n",
        "print(\"12-24 LDF of original Triangle: \" + str(round(orig_dev.ldf_.values[0,0,0,0],4)))\n",
        "pd.Series(resampled_ldf.values[:, 0, 0, 0]).plot(\n",
        "    kind='hist', bins=100,\n",
        "    title='Age 12-14 LDF distribution using Bootstrap')"
      ],
      "execution_count": 50,
      "outputs": [
        {
          "output_type": "stream",
          "name": "stdout",
          "text": [
            "12-24 LDF of original Triangle: 8.2061\n"
          ]
        },
        {
          "output_type": "execute_result",
          "data": {
            "text/plain": [
              "<matplotlib.axes._subplots.AxesSubplot at 0x7f631fae2190>"
            ]
          },
          "metadata": {},
          "execution_count": 50
        },
        {
          "output_type": "display_data",
          "data": {
            "image/png": "[encoded data removed]",
            "text/plain": [
              "<Figure size 432x288 with 1 Axes>"
            ]
          },
          "metadata": {
            "needs_background": "light"
          }
        }
      ]
    },
    {
      "cell_type": "markdown",
      "metadata": {
        "id": "lqcm2AgI3E3B"
      },
      "source": [
        "Comparison between bootstrap and mack"
      ]
    },
    {
      "cell_type": "code",
      "metadata": {
        "colab": {
          "base_uri": "https://localhost:8080/",
          "height": 361
        },
        "id": "nw3uXmg23Ihm",
        "outputId": "f20970fe-dc60-4099-c69c-d09f84036062"
      },
      "source": [
        "mack_vs_bs = resampled_ldf.std('index').to_frame().append(\n",
        "    orig_dev.std_err_.to_frame()).T\n",
        "mack_vs_bs.columns = ['Mack', 'Bootstrap']\n",
        "mack_vs_bs.plot(kind='bar', title='Mack Regression Framework LDF Std Err\\nvs\\nBootstrap Simulated LDF Std Err')"
      ],
      "execution_count": 51,
      "outputs": [
        {
          "output_type": "execute_result",
          "data": {
            "text/plain": [
              "<matplotlib.axes._subplots.AxesSubplot at 0x7f63202445d0>"
            ]
          },
          "metadata": {},
          "execution_count": 51
        },
        {
          "output_type": "display_data",
          "data": {
            "image/png": "[encoded data removed]",
            "text/plain": [
              "<Figure size 432x288 with 1 Axes>"
            ]
          },
          "metadata": {
            "needs_background": "light"
          }
        }
      ]
    },
    {
      "cell_type": "code",
      "metadata": {
        "colab": {
          "base_uri": "https://localhost:8080/"
        },
        "id": "7Zxt1-A228l7",
        "outputId": "92c1acce-2340-4d59-931a-b2ca14654978"
      },
      "source": [
        "ibnr = cl.Chainladder().fit(samples).ibnr_.sum('origin')\n",
        "ibnr_99 = ibnr.quantile(q=0.99)\n",
        "print(\"99%-ile of reserve estimate is \" +'{:0,}'.format(round(ibnr_99,0)))"
      ],
      "execution_count": 52,
      "outputs": [
        {
          "output_type": "stream",
          "name": "stderr",
          "text": [
            "/usr/local/lib/python3.7/dist-packages/chainladder/utils/weighted_regression.py:76: RuntimeWarning: invalid value encountered in sqrt\n",
            "  residual = (y - fitted_value) * xp.sqrt(w)\n",
            "/usr/local/lib/python3.7/dist-packages/chainladder/development/development.py:155: RuntimeWarning: invalid value encountered in sqrt\n",
            "  / xp.swapaxes(xp.sqrt(x ** (2 - exponent))[..., 0:1, :], -1, -2)\n",
            "/usr/local/lib/python3.7/dist-packages/chainladder/development/development.py:165: RuntimeWarning: invalid value encountered in sqrt\n",
            "  std = xp.sqrt((1/num_to_nan(w))*(self.sigma_**2).values)\n",
            "/usr/local/lib/python3.7/dist-packages/chainladder/tails/base.py:120: RuntimeWarning: overflow encountered in exp\n",
            "  sigma_ = xp.exp(time_pd * reg.slope_ + reg.intercept_)\n",
            "/usr/local/lib/python3.7/dist-packages/chainladder/tails/base.py:124: RuntimeWarning: overflow encountered in exp\n",
            "  std_err_ = xp.exp(time_pd * reg.slope_ + reg.intercept_)\n",
            "/usr/local/lib/python3.7/dist-packages/chainladder/tails/base.py:127: RuntimeWarning: invalid value encountered in multiply\n",
            "  sigma_ = sigma_ * 0\n",
            "/usr/local/lib/python3.7/dist-packages/chainladder/tails/base.py:128: RuntimeWarning: invalid value encountered in multiply\n",
            "  std_err_ = std_err_* 0\n"
          ]
        },
        {
          "output_type": "stream",
          "name": "stdout",
          "text": [
            "99%-ile of reserve estimate is 108,359.0\n"
          ]
        }
      ]
    },
    {
      "cell_type": "code",
      "metadata": {
        "colab": {
          "base_uri": "https://localhost:8080/",
          "height": 281
        },
        "id": "xajnsfxG3URE",
        "outputId": "30c58173-8ff4-4c59-b492-34ab184c582b"
      },
      "source": [
        "ax = ibnr.plot(kind='hist', bins=50, alpha=0.7, color='green').plot()\n",
        "dist.plot(kind='hist', bins=50, alpha=0.4, color='blue', title='Mack vs Bootstrap Variability');"
      ],
      "execution_count": 53,
      "outputs": [
        {
          "output_type": "display_data",
          "data": {
            "image/png": "[encoded data removed]",
            "text/plain": [
              "<Figure size 432x288 with 1 Axes>"
            ]
          },
          "metadata": {
            "needs_background": "light"
          }
        }
      ]
    },
    {
      "cell_type": "markdown",
      "metadata": {
        "id": "6gcVf9m-4gho"
      },
      "source": [
        "MULTIVARIATE CHAIN LADDDERS"
      ]
    },
    {
      "cell_type": "code",
      "metadata": {
        "colab": {
          "base_uri": "https://localhost:8080/",
          "height": 224
        },
        "id": "ChyqS3D94arN",
        "outputId": "6f3573ed-05f1-4936-ecd8-3067d177f17a"
      },
      "source": [
        "clrd = cl.load_sample(\"clrd\").groupby(\"LOB\").sum()[\"CumPaidLoss\"]\n",
        "print(\"Fitting to \" + str(len(clrd.index)) + \" industries simultaneously.\")\n",
        "cl.Development().fit_transform(clrd).cdf_"
      ],
      "execution_count": 54,
      "outputs": [
        {
          "output_type": "stream",
          "name": "stdout",
          "text": [
            "Fitting to 6 industries simultaneously.\n"
          ]
        },
        {
          "output_type": "execute_result",
          "data": {
            "text/html": [
              "<table border=\"1\" class=\"dataframe\">\n",
              "  <thead>\n",
              "    <tr style=\"text-align: right;\">\n",
              "      <th></th>\n",
              "      <th>Triangle Summary</th>\n",
              "    </tr>\n",
              "  </thead>\n",
              "  <tbody>\n",
              "    <tr>\n",
              "      <th>Valuation:</th>\n",
              "      <td>2261-12</td>\n",
              "    </tr>\n",
              "    <tr>\n",
              "      <th>Grain:</th>\n",
              "      <td>OYDY</td>\n",
              "    </tr>\n",
              "    <tr>\n",
              "      <th>Shape:</th>\n",
              "      <td>(6, 1, 1, 9)</td>\n",
              "    </tr>\n",
              "    <tr>\n",
              "      <th>Index:</th>\n",
              "      <td>[LOB]</td>\n",
              "    </tr>\n",
              "    <tr>\n",
              "      <th>Columns:</th>\n",
              "      <td>[CumPaidLoss]</td>\n",
              "    </tr>\n",
              "  </tbody>\n",
              "</table>"
            ],
            "text/plain": [
              "           Triangle Summary\n",
              "Valuation:          2261-12\n",
              "Grain:                 OYDY\n",
              "Shape:         (6, 1, 1, 9)\n",
              "Index:                [LOB]\n",
              "Columns:      [CumPaidLoss]"
            ]
          },
          "metadata": {},
          "execution_count": 54
        }
      ]
    },
    {
      "cell_type": "code",
      "metadata": {
        "id": "XHYxVjem3X5V"
      },
      "source": [
        ""
      ],
      "execution_count": 54,
      "outputs": []
    },
    {
      "cell_type": "code",
      "metadata": {
        "colab": {
          "base_uri": "https://localhost:8080/"
        },
        "id": "mYpPaYR03w9H",
        "outputId": "46ad0509-678b-4316-926e-538aa088565e"
      },
      "source": [
        "print(cl.Development(average=\"simple\").fit(clrd.loc[\"wkcomp\"]))\n",
        "print(cl.Development(n_periods=4).fit(clrd.loc[\"ppauto\"]))\n",
        "print(cl.Development(average=\"regression\", n_periods=6).fit(clrd.loc[\"comauto\"]))"
      ],
      "execution_count": 55,
      "outputs": [
        {
          "output_type": "stream",
          "name": "stdout",
          "text": [
            "Development(average='simple')\n",
            "Development(n_periods=4)\n",
            "Development(average='regression', n_periods=6)\n"
          ]
        }
      ]
    },
    {
      "cell_type": "markdown",
      "metadata": {
        "id": "s8tmaDEs3bMe"
      },
      "source": [
        ""
      ]
    }
  ]
}